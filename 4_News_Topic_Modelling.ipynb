{
 "cells": [
  {
   "cell_type": "code",
   "execution_count": 2,
   "metadata": {},
   "outputs": [],
   "source": [
    "import pandas as pd\n",
    "import numpy as np\n",
    "import matplotlib.pyplot as plt\n",
    "import seaborn as sns\n",
    "from bertopic import BERTopic\n",
    "from sklearn.feature_extraction.text import CountVectorizer, ENGLISH_STOP_WORDS\n",
    "import umap\n",
    "import re\n",
    "import nltk\n",
    "from sentence_transformers import SentenceTransformer\n",
    "from tqdm.auto import tqdm\n",
    "import unicodedata"
   ]
  },
  {
   "cell_type": "markdown",
   "metadata": {},
   "source": [
    "## 0. Pre-processing"
   ]
  },
  {
   "cell_type": "code",
   "execution_count": null,
   "metadata": {},
   "outputs": [],
   "source": [
    "\n",
    "# Load data from CSV\n",
    "all_news = pd.read_csv(\"news/all-news-final.csv\")\n",
    "\n",
    "# Load stopwords list\n",
    "with open(\"stopwords-en.txt\", \"r\") as f:\n",
    "    stopwords_list = f.read().splitlines()\n",
    "\n",
    "# Additional custom stopwords\n",
    "custom_stopwords = list(ENGLISH_STOP_WORDS) + stopwords_list + [\"uk\"]\n",
    "\n",
    "\n",
    "# Preprocessing function to clean text\n",
    "import re\n",
    "import unicodedata\n",
    "\n",
    "def preprocess_text(text):\n",
    "    # Convert to lowercase\n",
    "    text = text.lower()\n",
    "    \n",
    "    # Remove URLs\n",
    "    text = re.sub(r'https?://\\S+|www\\.\\S+', '', text)\n",
    "    \n",
    "    # Remove words with both letters and numbers\n",
    "    text = re.sub(r'\\b\\w*\\d\\w*\\b', '', text)\n",
    "    \n",
    "    # Remove numbers\n",
    "    text = re.sub(r'\\b\\d+\\b', '', text)\n",
    "    \n",
    "    # Remove specific patterns (e.g., '#', 'â', 'î', 'û')\n",
    "    text = re.sub(r'#', '', text)\n",
    "    text = re.sub(r'[âîû]', '', text)\n",
    "    \n",
    "    # Normalize unicode characters to NFKD form and remove diacritics\n",
    "    text = ''.join(c for c in unicodedata.normalize('NFKD', text) if unicodedata.category(c) != 'Mn')\n",
    "    \n",
    "    # Remove any remaining non-alphanumeric characters\n",
    "    text = re.sub(r'[^a-zA-Z0-9\\s]', ' ', text)\n",
    "    \n",
    "    # Remove extra whitespace\n",
    "    text = ' '.join(text.split())\n",
    "    \n",
    "    return text\n",
    "\n",
    "# Apply preprocessing to each comment\n",
    "all_news['clean_body'] = all_news['summary'].apply(preprocess_text)\n",
    "\n",
    "# Convert the cleaned text to a list\n",
    "texts = all_news['clean_body'].tolist()\n"
   ]
  },
  {
   "cell_type": "code",
   "execution_count": null,
   "metadata": {},
   "outputs": [],
   "source": [
    "# write all_news to csv\n",
    "all_news.to_csv(\"news_cleaned.csv\", index=False)"
   ]
  },
  {
   "cell_type": "code",
   "execution_count": null,
   "metadata": {},
   "outputs": [],
   "source": [
    "# reload the cleaned data\n",
    "all_news = pd.read_csv(\"news_cleaned.csv\")\n",
    "texts = all_news['clean_body'].tolist()"
   ]
  },
  {
   "cell_type": "markdown",
   "metadata": {},
   "source": [
    "## 1. Precalculate Embeddings"
   ]
  },
  {
   "cell_type": "code",
   "execution_count": null,
   "metadata": {},
   "outputs": [],
   "source": [
    "from sentence_transformers import SentenceTransformer\n",
    "embedding_model = SentenceTransformer('all-MiniLM-L6-v2')\n",
    "embeddings = embedding_model.encode(texts, show_progress_bar=True)"
   ]
  },
  {
   "cell_type": "code",
   "execution_count": null,
   "metadata": {},
   "outputs": [],
   "source": [
    "# save embeddings\n",
    "np.save('news-embeddings.npy', embeddings)"
   ]
  },
  {
   "cell_type": "code",
   "execution_count": 16,
   "metadata": {},
   "outputs": [],
   "source": [
    "import numpy as np\n",
    "embedding_model = SentenceTransformer('all-MiniLM-L6-v2')\n",
    "embeddings = np.load('news-embeddings.npy')"
   ]
  },
  {
   "cell_type": "markdown",
   "metadata": {},
   "source": [
    "## 2. Preventing stochastic behaviour"
   ]
  },
  {
   "cell_type": "code",
   "execution_count": null,
   "metadata": {},
   "outputs": [],
   "source": [
    "from umap import UMAP\n",
    "umap_model = UMAP(n_neighbors=15, n_components=3, min_dist=0.1, metric='cosine', random_state=42)"
   ]
  },
  {
   "cell_type": "markdown",
   "metadata": {},
   "source": [
    "## 3. Controlling number of topics"
   ]
  },
  {
   "cell_type": "code",
   "execution_count": 17,
   "metadata": {},
   "outputs": [],
   "source": [
    "from hdbscan import HDBSCAN\n",
    "hdbscan_model = HDBSCAN(min_cluster_size=30, metric='euclidean', cluster_selection_method='eom', prediction_data=True)"
   ]
  },
  {
   "cell_type": "markdown",
   "metadata": {},
   "source": [
    "## 4. Improving Default Representation"
   ]
  },
  {
   "cell_type": "code",
   "execution_count": null,
   "metadata": {},
   "outputs": [],
   "source": [
    "from sklearn.feature_extraction.text import CountVectorizer\n",
    "vectorizer_model = CountVectorizer(stop_words=custom_stopwords, min_df=2, ngram_range=(1, 2))"
   ]
  },
  {
   "cell_type": "markdown",
   "metadata": {},
   "source": [
    "## 5. Training"
   ]
  },
  {
   "cell_type": "code",
   "execution_count": null,
   "metadata": {},
   "outputs": [],
   "source": [
    "from bertopic import BERTopic\n",
    "news_model = BERTopic(\n",
    "    # Pipeline models\n",
    "    embedding_model=embedding_model,\n",
    "    umap_model=umap_model,\n",
    "    hdbscan_model=hdbscan_model,\n",
    "    vectorizer_model=vectorizer_model,\n",
    "\n",
    "    # Hyperparameters\n",
    "    top_n_words=15,\n",
    "    verbose=True,\n",
    "    calculate_probabilities=True\n",
    ")\n",
    "\n",
    "topics, probs = news_model.fit_transform(texts, embeddings)"
   ]
  },
  {
   "cell_type": "code",
   "execution_count": null,
   "metadata": {},
   "outputs": [],
   "source": [
    "news_model.get_topic_info()"
   ]
  },
  {
   "cell_type": "markdown",
   "metadata": {},
   "source": [
    "## 6. Outlier Reduction"
   ]
  },
  {
   "cell_type": "code",
   "execution_count": null,
   "metadata": {},
   "outputs": [],
   "source": [
    "# Reduce outliers\n",
    "new_topics = news_model.reduce_outliers(texts, topics, strategy=\"c-tf-idf\", threshold=0.10)\n",
    "new_topics1 = news_model.reduce_outliers(texts, new_topics, probabilities=probs, strategy=\"probabilities\")\n",
    "\n",
    "# Update the topics\n",
    "news_model.update_topics(texts, topics=new_topics1, vectorizer_model=vectorizer_model)"
   ]
  },
  {
   "cell_type": "code",
   "execution_count": null,
   "metadata": {},
   "outputs": [],
   "source": [
    "news_topics = pd.DataFrame(news_model.get_topic_info())\n",
    "news_topics.to_csv('news-topics.csv', index=False)"
   ]
  },
  {
   "cell_type": "code",
   "execution_count": null,
   "metadata": {},
   "outputs": [],
   "source": [
    "news_model.get_topic_info()"
   ]
  },
  {
   "cell_type": "markdown",
   "metadata": {},
   "source": [
    "## Checkpoint: Save final BERT"
   ]
  },
  {
   "cell_type": "code",
   "execution_count": null,
   "metadata": {},
   "outputs": [],
   "source": [
    "news_model.save(\"final_news_model\", serialization=\"safetensors\", save_ctfidf=True, save_embedding_model=embedding_model)"
   ]
  },
  {
   "cell_type": "markdown",
   "metadata": {},
   "source": [
    "## Load Final Model"
   ]
  },
  {
   "cell_type": "code",
   "execution_count": 3,
   "metadata": {},
   "outputs": [],
   "source": [
    "# load reddit model\n",
    "embedding_model = SentenceTransformer('all-MiniLM-L6-v2')\n",
    "news_model = BERTopic.load(\"final_news_model\", embedding_model=embedding_model)"
   ]
  },
  {
   "cell_type": "code",
   "execution_count": 9,
   "metadata": {},
   "outputs": [
    {
     "data": {
      "application/vnd.plotly.v1+json": {
       "config": {
        "plotlyServerURL": "https://plot.ly"
       },
       "data": [
        {
         "customdata": [
          [
           0,
           "1: Rwanda Court Ruling",
           741
          ],
          [
           1,
           "2: Asylum Seekers Accommodation",
           570
          ],
          [
           2,
           "3: Taliban Convictions",
           484
          ],
          [
           3,
           "4: Braverman Immigration Policy",
           585
          ],
          [
           4,
           "5: Migration Record Figures",
           318
          ],
          [
           5,
           "6: Rishi Sunak Politics",
           409
          ],
          [
           6,
           "7: Illegal Migration Legislation",
           370
          ],
          [
           7,
           "8: Migrants Crossing",
           321
          ],
          [
           8,
           "9: RAF Scampton Asylum",
           218
          ],
          [
           9,
           "10: Migrant Boat Tragedies",
           276
          ],
          [
           10,
           "11: Bibby Stockholm Barge",
           213
          ],
          [
           11,
           "12: EU Migration Deal",
           286
          ],
          [
           12,
           "13: UK Police Crimes",
           173
          ],
          [
           13,
           "14: Protests at Hotels",
           163
          ],
          [
           14,
           "15: Migrant Smuggling Gangs",
           288
          ],
          [
           15,
           "16: Gary Lineker Controversy",
           139
          ],
          [
           16,
           "17: Foreign Worker Visas",
           225
          ],
          [
           17,
           "18: Asylum Claims Backlog",
           341
          ],
          [
           18,
           "19: Missing Unaccompanied Children",
           148
          ],
          [
           19,
           "20: Legionella on Barge",
           70
          ],
          [
           20,
           "21: Portland Asylum Barge",
           115
          ],
          [
           21,
           "22: Stopping Migrant Boats",
           208
          ],
          [
           22,
           "23: Emmanuel Macron Politics",
           59
          ],
          [
           23,
           "24: Foreign University Students",
           66
          ],
          [
           24,
           "25: European Human Rights",
           124
          ],
          [
           25,
           "26: Archbishop on Migration",
           43
          ]
         ],
         "hovertemplate": "<b>Topic %{customdata[0]}</b><br>%{customdata[1]}<br>Size: %{customdata[2]}",
         "legendgroup": "",
         "marker": {
          "color": "rgba(0, 128, 128, 0.6)",
          "line": {
           "color": "DarkSlateGrey",
           "width": 2
          },
          "size": [
           741,
           570,
           484,
           585,
           318,
           409,
           370,
           321,
           218,
           276,
           213,
           286,
           173,
           163,
           288,
           139,
           225,
           341,
           148,
           70,
           115,
           208,
           59,
           66,
           124,
           43
          ],
          "sizemode": "area",
          "sizeref": 0.463125,
          "symbol": "circle"
         },
         "mode": "markers",
         "name": "",
         "orientation": "v",
         "showlegend": false,
         "type": "scatter",
         "x": [
          1.2454166412353516,
          4.553380966186523,
          4.033995151519775,
          1.056605577468872,
          1.8922191858291626,
          0.7773073315620422,
          1.4543770551681519,
          10.758962631225586,
          4.497354030609131,
          10.468865394592285,
          18.41827964782715,
          10.819787979125977,
          5.329766273498535,
          5.231701374053955,
          10.64628791809082,
          0.6957924365997314,
          2.0560665130615234,
          4.8043341636657715,
          4.190213680267334,
          18.178483963012695,
          18.528610229492188,
          1.0814892053604126,
          10.913644790649414,
          2.3459272384643555,
          10.529518127441406,
          1.718087077140808
         ],
         "xaxis": "x",
         "y": [
          0.9722325205802917,
          20.216413497924805,
          20.720251083374023,
          2.2743680477142334,
          12.085805892944336,
          2.066049098968506,
          1.1651840209960938,
          9.422050476074219,
          19.990467071533203,
          9.131776809692383,
          12.40212345123291,
          -8.192829132080078,
          20.45558738708496,
          20.37252426147461,
          9.30942440032959,
          2.519596815109253,
          12.249905586242676,
          19.775537490844727,
          20.582612991333008,
          12.162459373474121,
          12.51257610321045,
          1.6183067560195923,
          -8.09899616241455,
          12.539267539978027,
          -8.4823637008667,
          1.1700077056884766
         ],
         "yaxis": "y"
        }
       ],
       "layout": {
        "annotations": [
         {
          "showarrow": false,
          "text": "D1",
          "x": 0.5914235711097717,
          "y": 7.036785244941711,
          "yshift": 10
         },
         {
          "showarrow": false,
          "text": "D2",
          "x": 10.949662667512893,
          "xshift": 10,
          "y": 23.828288745880126
         }
        ],
        "height": 650,
        "hoverlabel": {
         "bgcolor": "white",
         "font": {
          "family": "Rockwell",
          "size": 16
         }
        },
        "legend": {
         "itemsizing": "constant",
         "tracegroupgap": 0
        },
        "margin": {
         "t": 60
        },
        "shapes": [
         {
          "line": {
           "color": "#CFD8DC",
           "width": 2
          },
          "type": "line",
          "x0": 10.949662667512893,
          "x1": 10.949662667512893,
          "y0": -9.754718255996703,
          "y1": 23.828288745880126
         },
         {
          "line": {
           "color": "#9E9E9E",
           "width": 2
          },
          "type": "line",
          "x0": 0.5914235711097717,
          "x1": 21.307901763916014,
          "y0": 7.036785244941711,
          "y1": 7.036785244941711
         }
        ],
        "sliders": [
         {
          "active": 0,
          "pad": {
           "t": 50
          },
          "steps": [
           {
            "args": [
             {
              "marker.color": [
               [
                "red",
                "#B0BEC5",
                "#B0BEC5",
                "#B0BEC5",
                "#B0BEC5",
                "#B0BEC5",
                "#B0BEC5",
                "#B0BEC5",
                "#B0BEC5",
                "#B0BEC5",
                "#B0BEC5",
                "#B0BEC5",
                "#B0BEC5",
                "#B0BEC5",
                "#B0BEC5",
                "#B0BEC5",
                "#B0BEC5",
                "#B0BEC5",
                "#B0BEC5",
                "#B0BEC5",
                "#B0BEC5",
                "#B0BEC5",
                "#B0BEC5",
                "#B0BEC5",
                "#B0BEC5",
                "#B0BEC5"
               ]
              ]
             }
            ],
            "label": "Topic 0",
            "method": "update"
           },
           {
            "args": [
             {
              "marker.color": [
               [
                "#B0BEC5",
                "red",
                "#B0BEC5",
                "#B0BEC5",
                "#B0BEC5",
                "#B0BEC5",
                "#B0BEC5",
                "#B0BEC5",
                "#B0BEC5",
                "#B0BEC5",
                "#B0BEC5",
                "#B0BEC5",
                "#B0BEC5",
                "#B0BEC5",
                "#B0BEC5",
                "#B0BEC5",
                "#B0BEC5",
                "#B0BEC5",
                "#B0BEC5",
                "#B0BEC5",
                "#B0BEC5",
                "#B0BEC5",
                "#B0BEC5",
                "#B0BEC5",
                "#B0BEC5",
                "#B0BEC5"
               ]
              ]
             }
            ],
            "label": "Topic 1",
            "method": "update"
           },
           {
            "args": [
             {
              "marker.color": [
               [
                "#B0BEC5",
                "#B0BEC5",
                "red",
                "#B0BEC5",
                "#B0BEC5",
                "#B0BEC5",
                "#B0BEC5",
                "#B0BEC5",
                "#B0BEC5",
                "#B0BEC5",
                "#B0BEC5",
                "#B0BEC5",
                "#B0BEC5",
                "#B0BEC5",
                "#B0BEC5",
                "#B0BEC5",
                "#B0BEC5",
                "#B0BEC5",
                "#B0BEC5",
                "#B0BEC5",
                "#B0BEC5",
                "#B0BEC5",
                "#B0BEC5",
                "#B0BEC5",
                "#B0BEC5",
                "#B0BEC5"
               ]
              ]
             }
            ],
            "label": "Topic 2",
            "method": "update"
           },
           {
            "args": [
             {
              "marker.color": [
               [
                "#B0BEC5",
                "#B0BEC5",
                "#B0BEC5",
                "red",
                "#B0BEC5",
                "#B0BEC5",
                "#B0BEC5",
                "#B0BEC5",
                "#B0BEC5",
                "#B0BEC5",
                "#B0BEC5",
                "#B0BEC5",
                "#B0BEC5",
                "#B0BEC5",
                "#B0BEC5",
                "#B0BEC5",
                "#B0BEC5",
                "#B0BEC5",
                "#B0BEC5",
                "#B0BEC5",
                "#B0BEC5",
                "#B0BEC5",
                "#B0BEC5",
                "#B0BEC5",
                "#B0BEC5",
                "#B0BEC5"
               ]
              ]
             }
            ],
            "label": "Topic 3",
            "method": "update"
           },
           {
            "args": [
             {
              "marker.color": [
               [
                "#B0BEC5",
                "#B0BEC5",
                "#B0BEC5",
                "#B0BEC5",
                "red",
                "#B0BEC5",
                "#B0BEC5",
                "#B0BEC5",
                "#B0BEC5",
                "#B0BEC5",
                "#B0BEC5",
                "#B0BEC5",
                "#B0BEC5",
                "#B0BEC5",
                "#B0BEC5",
                "#B0BEC5",
                "#B0BEC5",
                "#B0BEC5",
                "#B0BEC5",
                "#B0BEC5",
                "#B0BEC5",
                "#B0BEC5",
                "#B0BEC5",
                "#B0BEC5",
                "#B0BEC5",
                "#B0BEC5"
               ]
              ]
             }
            ],
            "label": "Topic 4",
            "method": "update"
           },
           {
            "args": [
             {
              "marker.color": [
               [
                "#B0BEC5",
                "#B0BEC5",
                "#B0BEC5",
                "#B0BEC5",
                "#B0BEC5",
                "red",
                "#B0BEC5",
                "#B0BEC5",
                "#B0BEC5",
                "#B0BEC5",
                "#B0BEC5",
                "#B0BEC5",
                "#B0BEC5",
                "#B0BEC5",
                "#B0BEC5",
                "#B0BEC5",
                "#B0BEC5",
                "#B0BEC5",
                "#B0BEC5",
                "#B0BEC5",
                "#B0BEC5",
                "#B0BEC5",
                "#B0BEC5",
                "#B0BEC5",
                "#B0BEC5",
                "#B0BEC5"
               ]
              ]
             }
            ],
            "label": "Topic 5",
            "method": "update"
           },
           {
            "args": [
             {
              "marker.color": [
               [
                "#B0BEC5",
                "#B0BEC5",
                "#B0BEC5",
                "#B0BEC5",
                "#B0BEC5",
                "#B0BEC5",
                "red",
                "#B0BEC5",
                "#B0BEC5",
                "#B0BEC5",
                "#B0BEC5",
                "#B0BEC5",
                "#B0BEC5",
                "#B0BEC5",
                "#B0BEC5",
                "#B0BEC5",
                "#B0BEC5",
                "#B0BEC5",
                "#B0BEC5",
                "#B0BEC5",
                "#B0BEC5",
                "#B0BEC5",
                "#B0BEC5",
                "#B0BEC5",
                "#B0BEC5",
                "#B0BEC5"
               ]
              ]
             }
            ],
            "label": "Topic 6",
            "method": "update"
           },
           {
            "args": [
             {
              "marker.color": [
               [
                "#B0BEC5",
                "#B0BEC5",
                "#B0BEC5",
                "#B0BEC5",
                "#B0BEC5",
                "#B0BEC5",
                "#B0BEC5",
                "red",
                "#B0BEC5",
                "#B0BEC5",
                "#B0BEC5",
                "#B0BEC5",
                "#B0BEC5",
                "#B0BEC5",
                "#B0BEC5",
                "#B0BEC5",
                "#B0BEC5",
                "#B0BEC5",
                "#B0BEC5",
                "#B0BEC5",
                "#B0BEC5",
                "#B0BEC5",
                "#B0BEC5",
                "#B0BEC5",
                "#B0BEC5",
                "#B0BEC5"
               ]
              ]
             }
            ],
            "label": "Topic 7",
            "method": "update"
           },
           {
            "args": [
             {
              "marker.color": [
               [
                "#B0BEC5",
                "#B0BEC5",
                "#B0BEC5",
                "#B0BEC5",
                "#B0BEC5",
                "#B0BEC5",
                "#B0BEC5",
                "#B0BEC5",
                "red",
                "#B0BEC5",
                "#B0BEC5",
                "#B0BEC5",
                "#B0BEC5",
                "#B0BEC5",
                "#B0BEC5",
                "#B0BEC5",
                "#B0BEC5",
                "#B0BEC5",
                "#B0BEC5",
                "#B0BEC5",
                "#B0BEC5",
                "#B0BEC5",
                "#B0BEC5",
                "#B0BEC5",
                "#B0BEC5",
                "#B0BEC5"
               ]
              ]
             }
            ],
            "label": "Topic 8",
            "method": "update"
           },
           {
            "args": [
             {
              "marker.color": [
               [
                "#B0BEC5",
                "#B0BEC5",
                "#B0BEC5",
                "#B0BEC5",
                "#B0BEC5",
                "#B0BEC5",
                "#B0BEC5",
                "#B0BEC5",
                "#B0BEC5",
                "red",
                "#B0BEC5",
                "#B0BEC5",
                "#B0BEC5",
                "#B0BEC5",
                "#B0BEC5",
                "#B0BEC5",
                "#B0BEC5",
                "#B0BEC5",
                "#B0BEC5",
                "#B0BEC5",
                "#B0BEC5",
                "#B0BEC5",
                "#B0BEC5",
                "#B0BEC5",
                "#B0BEC5",
                "#B0BEC5"
               ]
              ]
             }
            ],
            "label": "Topic 9",
            "method": "update"
           },
           {
            "args": [
             {
              "marker.color": [
               [
                "#B0BEC5",
                "#B0BEC5",
                "#B0BEC5",
                "#B0BEC5",
                "#B0BEC5",
                "#B0BEC5",
                "#B0BEC5",
                "#B0BEC5",
                "#B0BEC5",
                "#B0BEC5",
                "red",
                "#B0BEC5",
                "#B0BEC5",
                "#B0BEC5",
                "#B0BEC5",
                "#B0BEC5",
                "#B0BEC5",
                "#B0BEC5",
                "#B0BEC5",
                "#B0BEC5",
                "#B0BEC5",
                "#B0BEC5",
                "#B0BEC5",
                "#B0BEC5",
                "#B0BEC5",
                "#B0BEC5"
               ]
              ]
             }
            ],
            "label": "Topic 10",
            "method": "update"
           },
           {
            "args": [
             {
              "marker.color": [
               [
                "#B0BEC5",
                "#B0BEC5",
                "#B0BEC5",
                "#B0BEC5",
                "#B0BEC5",
                "#B0BEC5",
                "#B0BEC5",
                "#B0BEC5",
                "#B0BEC5",
                "#B0BEC5",
                "#B0BEC5",
                "red",
                "#B0BEC5",
                "#B0BEC5",
                "#B0BEC5",
                "#B0BEC5",
                "#B0BEC5",
                "#B0BEC5",
                "#B0BEC5",
                "#B0BEC5",
                "#B0BEC5",
                "#B0BEC5",
                "#B0BEC5",
                "#B0BEC5",
                "#B0BEC5",
                "#B0BEC5"
               ]
              ]
             }
            ],
            "label": "Topic 11",
            "method": "update"
           },
           {
            "args": [
             {
              "marker.color": [
               [
                "#B0BEC5",
                "#B0BEC5",
                "#B0BEC5",
                "#B0BEC5",
                "#B0BEC5",
                "#B0BEC5",
                "#B0BEC5",
                "#B0BEC5",
                "#B0BEC5",
                "#B0BEC5",
                "#B0BEC5",
                "#B0BEC5",
                "red",
                "#B0BEC5",
                "#B0BEC5",
                "#B0BEC5",
                "#B0BEC5",
                "#B0BEC5",
                "#B0BEC5",
                "#B0BEC5",
                "#B0BEC5",
                "#B0BEC5",
                "#B0BEC5",
                "#B0BEC5",
                "#B0BEC5",
                "#B0BEC5"
               ]
              ]
             }
            ],
            "label": "Topic 12",
            "method": "update"
           },
           {
            "args": [
             {
              "marker.color": [
               [
                "#B0BEC5",
                "#B0BEC5",
                "#B0BEC5",
                "#B0BEC5",
                "#B0BEC5",
                "#B0BEC5",
                "#B0BEC5",
                "#B0BEC5",
                "#B0BEC5",
                "#B0BEC5",
                "#B0BEC5",
                "#B0BEC5",
                "#B0BEC5",
                "red",
                "#B0BEC5",
                "#B0BEC5",
                "#B0BEC5",
                "#B0BEC5",
                "#B0BEC5",
                "#B0BEC5",
                "#B0BEC5",
                "#B0BEC5",
                "#B0BEC5",
                "#B0BEC5",
                "#B0BEC5",
                "#B0BEC5"
               ]
              ]
             }
            ],
            "label": "Topic 13",
            "method": "update"
           },
           {
            "args": [
             {
              "marker.color": [
               [
                "#B0BEC5",
                "#B0BEC5",
                "#B0BEC5",
                "#B0BEC5",
                "#B0BEC5",
                "#B0BEC5",
                "#B0BEC5",
                "#B0BEC5",
                "#B0BEC5",
                "#B0BEC5",
                "#B0BEC5",
                "#B0BEC5",
                "#B0BEC5",
                "#B0BEC5",
                "red",
                "#B0BEC5",
                "#B0BEC5",
                "#B0BEC5",
                "#B0BEC5",
                "#B0BEC5",
                "#B0BEC5",
                "#B0BEC5",
                "#B0BEC5",
                "#B0BEC5",
                "#B0BEC5",
                "#B0BEC5"
               ]
              ]
             }
            ],
            "label": "Topic 14",
            "method": "update"
           },
           {
            "args": [
             {
              "marker.color": [
               [
                "#B0BEC5",
                "#B0BEC5",
                "#B0BEC5",
                "#B0BEC5",
                "#B0BEC5",
                "#B0BEC5",
                "#B0BEC5",
                "#B0BEC5",
                "#B0BEC5",
                "#B0BEC5",
                "#B0BEC5",
                "#B0BEC5",
                "#B0BEC5",
                "#B0BEC5",
                "#B0BEC5",
                "red",
                "#B0BEC5",
                "#B0BEC5",
                "#B0BEC5",
                "#B0BEC5",
                "#B0BEC5",
                "#B0BEC5",
                "#B0BEC5",
                "#B0BEC5",
                "#B0BEC5",
                "#B0BEC5"
               ]
              ]
             }
            ],
            "label": "Topic 15",
            "method": "update"
           },
           {
            "args": [
             {
              "marker.color": [
               [
                "#B0BEC5",
                "#B0BEC5",
                "#B0BEC5",
                "#B0BEC5",
                "#B0BEC5",
                "#B0BEC5",
                "#B0BEC5",
                "#B0BEC5",
                "#B0BEC5",
                "#B0BEC5",
                "#B0BEC5",
                "#B0BEC5",
                "#B0BEC5",
                "#B0BEC5",
                "#B0BEC5",
                "#B0BEC5",
                "red",
                "#B0BEC5",
                "#B0BEC5",
                "#B0BEC5",
                "#B0BEC5",
                "#B0BEC5",
                "#B0BEC5",
                "#B0BEC5",
                "#B0BEC5",
                "#B0BEC5"
               ]
              ]
             }
            ],
            "label": "Topic 16",
            "method": "update"
           },
           {
            "args": [
             {
              "marker.color": [
               [
                "#B0BEC5",
                "#B0BEC5",
                "#B0BEC5",
                "#B0BEC5",
                "#B0BEC5",
                "#B0BEC5",
                "#B0BEC5",
                "#B0BEC5",
                "#B0BEC5",
                "#B0BEC5",
                "#B0BEC5",
                "#B0BEC5",
                "#B0BEC5",
                "#B0BEC5",
                "#B0BEC5",
                "#B0BEC5",
                "#B0BEC5",
                "red",
                "#B0BEC5",
                "#B0BEC5",
                "#B0BEC5",
                "#B0BEC5",
                "#B0BEC5",
                "#B0BEC5",
                "#B0BEC5",
                "#B0BEC5"
               ]
              ]
             }
            ],
            "label": "Topic 17",
            "method": "update"
           },
           {
            "args": [
             {
              "marker.color": [
               [
                "#B0BEC5",
                "#B0BEC5",
                "#B0BEC5",
                "#B0BEC5",
                "#B0BEC5",
                "#B0BEC5",
                "#B0BEC5",
                "#B0BEC5",
                "#B0BEC5",
                "#B0BEC5",
                "#B0BEC5",
                "#B0BEC5",
                "#B0BEC5",
                "#B0BEC5",
                "#B0BEC5",
                "#B0BEC5",
                "#B0BEC5",
                "#B0BEC5",
                "red",
                "#B0BEC5",
                "#B0BEC5",
                "#B0BEC5",
                "#B0BEC5",
                "#B0BEC5",
                "#B0BEC5",
                "#B0BEC5"
               ]
              ]
             }
            ],
            "label": "Topic 18",
            "method": "update"
           },
           {
            "args": [
             {
              "marker.color": [
               [
                "#B0BEC5",
                "#B0BEC5",
                "#B0BEC5",
                "#B0BEC5",
                "#B0BEC5",
                "#B0BEC5",
                "#B0BEC5",
                "#B0BEC5",
                "#B0BEC5",
                "#B0BEC5",
                "#B0BEC5",
                "#B0BEC5",
                "#B0BEC5",
                "#B0BEC5",
                "#B0BEC5",
                "#B0BEC5",
                "#B0BEC5",
                "#B0BEC5",
                "#B0BEC5",
                "red",
                "#B0BEC5",
                "#B0BEC5",
                "#B0BEC5",
                "#B0BEC5",
                "#B0BEC5",
                "#B0BEC5"
               ]
              ]
             }
            ],
            "label": "Topic 19",
            "method": "update"
           },
           {
            "args": [
             {
              "marker.color": [
               [
                "#B0BEC5",
                "#B0BEC5",
                "#B0BEC5",
                "#B0BEC5",
                "#B0BEC5",
                "#B0BEC5",
                "#B0BEC5",
                "#B0BEC5",
                "#B0BEC5",
                "#B0BEC5",
                "#B0BEC5",
                "#B0BEC5",
                "#B0BEC5",
                "#B0BEC5",
                "#B0BEC5",
                "#B0BEC5",
                "#B0BEC5",
                "#B0BEC5",
                "#B0BEC5",
                "#B0BEC5",
                "red",
                "#B0BEC5",
                "#B0BEC5",
                "#B0BEC5",
                "#B0BEC5",
                "#B0BEC5"
               ]
              ]
             }
            ],
            "label": "Topic 20",
            "method": "update"
           },
           {
            "args": [
             {
              "marker.color": [
               [
                "#B0BEC5",
                "#B0BEC5",
                "#B0BEC5",
                "#B0BEC5",
                "#B0BEC5",
                "#B0BEC5",
                "#B0BEC5",
                "#B0BEC5",
                "#B0BEC5",
                "#B0BEC5",
                "#B0BEC5",
                "#B0BEC5",
                "#B0BEC5",
                "#B0BEC5",
                "#B0BEC5",
                "#B0BEC5",
                "#B0BEC5",
                "#B0BEC5",
                "#B0BEC5",
                "#B0BEC5",
                "#B0BEC5",
                "red",
                "#B0BEC5",
                "#B0BEC5",
                "#B0BEC5",
                "#B0BEC5"
               ]
              ]
             }
            ],
            "label": "Topic 21",
            "method": "update"
           },
           {
            "args": [
             {
              "marker.color": [
               [
                "#B0BEC5",
                "#B0BEC5",
                "#B0BEC5",
                "#B0BEC5",
                "#B0BEC5",
                "#B0BEC5",
                "#B0BEC5",
                "#B0BEC5",
                "#B0BEC5",
                "#B0BEC5",
                "#B0BEC5",
                "#B0BEC5",
                "#B0BEC5",
                "#B0BEC5",
                "#B0BEC5",
                "#B0BEC5",
                "#B0BEC5",
                "#B0BEC5",
                "#B0BEC5",
                "#B0BEC5",
                "#B0BEC5",
                "#B0BEC5",
                "red",
                "#B0BEC5",
                "#B0BEC5",
                "#B0BEC5"
               ]
              ]
             }
            ],
            "label": "Topic 22",
            "method": "update"
           },
           {
            "args": [
             {
              "marker.color": [
               [
                "#B0BEC5",
                "#B0BEC5",
                "#B0BEC5",
                "#B0BEC5",
                "#B0BEC5",
                "#B0BEC5",
                "#B0BEC5",
                "#B0BEC5",
                "#B0BEC5",
                "#B0BEC5",
                "#B0BEC5",
                "#B0BEC5",
                "#B0BEC5",
                "#B0BEC5",
                "#B0BEC5",
                "#B0BEC5",
                "#B0BEC5",
                "#B0BEC5",
                "#B0BEC5",
                "#B0BEC5",
                "#B0BEC5",
                "#B0BEC5",
                "#B0BEC5",
                "red",
                "#B0BEC5",
                "#B0BEC5"
               ]
              ]
             }
            ],
            "label": "Topic 23",
            "method": "update"
           },
           {
            "args": [
             {
              "marker.color": [
               [
                "#B0BEC5",
                "#B0BEC5",
                "#B0BEC5",
                "#B0BEC5",
                "#B0BEC5",
                "#B0BEC5",
                "#B0BEC5",
                "#B0BEC5",
                "#B0BEC5",
                "#B0BEC5",
                "#B0BEC5",
                "#B0BEC5",
                "#B0BEC5",
                "#B0BEC5",
                "#B0BEC5",
                "#B0BEC5",
                "#B0BEC5",
                "#B0BEC5",
                "#B0BEC5",
                "#B0BEC5",
                "#B0BEC5",
                "#B0BEC5",
                "#B0BEC5",
                "#B0BEC5",
                "red",
                "#B0BEC5"
               ]
              ]
             }
            ],
            "label": "Topic 24",
            "method": "update"
           },
           {
            "args": [
             {
              "marker.color": [
               [
                "#B0BEC5",
                "#B0BEC5",
                "#B0BEC5",
                "#B0BEC5",
                "#B0BEC5",
                "#B0BEC5",
                "#B0BEC5",
                "#B0BEC5",
                "#B0BEC5",
                "#B0BEC5",
                "#B0BEC5",
                "#B0BEC5",
                "#B0BEC5",
                "#B0BEC5",
                "#B0BEC5",
                "#B0BEC5",
                "#B0BEC5",
                "#B0BEC5",
                "#B0BEC5",
                "#B0BEC5",
                "#B0BEC5",
                "#B0BEC5",
                "#B0BEC5",
                "#B0BEC5",
                "#B0BEC5",
                "red"
               ]
              ]
             }
            ],
            "label": "Topic 25",
            "method": "update"
           }
          ]
         }
        ],
        "template": {
         "data": {
          "bar": [
           {
            "error_x": {
             "color": "rgb(36,36,36)"
            },
            "error_y": {
             "color": "rgb(36,36,36)"
            },
            "marker": {
             "line": {
              "color": "white",
              "width": 0.5
             },
             "pattern": {
              "fillmode": "overlay",
              "size": 10,
              "solidity": 0.2
             }
            },
            "type": "bar"
           }
          ],
          "barpolar": [
           {
            "marker": {
             "line": {
              "color": "white",
              "width": 0.5
             },
             "pattern": {
              "fillmode": "overlay",
              "size": 10,
              "solidity": 0.2
             }
            },
            "type": "barpolar"
           }
          ],
          "carpet": [
           {
            "aaxis": {
             "endlinecolor": "rgb(36,36,36)",
             "gridcolor": "white",
             "linecolor": "white",
             "minorgridcolor": "white",
             "startlinecolor": "rgb(36,36,36)"
            },
            "baxis": {
             "endlinecolor": "rgb(36,36,36)",
             "gridcolor": "white",
             "linecolor": "white",
             "minorgridcolor": "white",
             "startlinecolor": "rgb(36,36,36)"
            },
            "type": "carpet"
           }
          ],
          "choropleth": [
           {
            "colorbar": {
             "outlinewidth": 1,
             "tickcolor": "rgb(36,36,36)",
             "ticks": "outside"
            },
            "type": "choropleth"
           }
          ],
          "contour": [
           {
            "colorbar": {
             "outlinewidth": 1,
             "tickcolor": "rgb(36,36,36)",
             "ticks": "outside"
            },
            "colorscale": [
             [
              0,
              "#440154"
             ],
             [
              0.1111111111111111,
              "#482878"
             ],
             [
              0.2222222222222222,
              "#3e4989"
             ],
             [
              0.3333333333333333,
              "#31688e"
             ],
             [
              0.4444444444444444,
              "#26828e"
             ],
             [
              0.5555555555555556,
              "#1f9e89"
             ],
             [
              0.6666666666666666,
              "#35b779"
             ],
             [
              0.7777777777777778,
              "#6ece58"
             ],
             [
              0.8888888888888888,
              "#b5de2b"
             ],
             [
              1,
              "#fde725"
             ]
            ],
            "type": "contour"
           }
          ],
          "contourcarpet": [
           {
            "colorbar": {
             "outlinewidth": 1,
             "tickcolor": "rgb(36,36,36)",
             "ticks": "outside"
            },
            "type": "contourcarpet"
           }
          ],
          "heatmap": [
           {
            "colorbar": {
             "outlinewidth": 1,
             "tickcolor": "rgb(36,36,36)",
             "ticks": "outside"
            },
            "colorscale": [
             [
              0,
              "#440154"
             ],
             [
              0.1111111111111111,
              "#482878"
             ],
             [
              0.2222222222222222,
              "#3e4989"
             ],
             [
              0.3333333333333333,
              "#31688e"
             ],
             [
              0.4444444444444444,
              "#26828e"
             ],
             [
              0.5555555555555556,
              "#1f9e89"
             ],
             [
              0.6666666666666666,
              "#35b779"
             ],
             [
              0.7777777777777778,
              "#6ece58"
             ],
             [
              0.8888888888888888,
              "#b5de2b"
             ],
             [
              1,
              "#fde725"
             ]
            ],
            "type": "heatmap"
           }
          ],
          "heatmapgl": [
           {
            "colorbar": {
             "outlinewidth": 1,
             "tickcolor": "rgb(36,36,36)",
             "ticks": "outside"
            },
            "colorscale": [
             [
              0,
              "#440154"
             ],
             [
              0.1111111111111111,
              "#482878"
             ],
             [
              0.2222222222222222,
              "#3e4989"
             ],
             [
              0.3333333333333333,
              "#31688e"
             ],
             [
              0.4444444444444444,
              "#26828e"
             ],
             [
              0.5555555555555556,
              "#1f9e89"
             ],
             [
              0.6666666666666666,
              "#35b779"
             ],
             [
              0.7777777777777778,
              "#6ece58"
             ],
             [
              0.8888888888888888,
              "#b5de2b"
             ],
             [
              1,
              "#fde725"
             ]
            ],
            "type": "heatmapgl"
           }
          ],
          "histogram": [
           {
            "marker": {
             "line": {
              "color": "white",
              "width": 0.6
             }
            },
            "type": "histogram"
           }
          ],
          "histogram2d": [
           {
            "colorbar": {
             "outlinewidth": 1,
             "tickcolor": "rgb(36,36,36)",
             "ticks": "outside"
            },
            "colorscale": [
             [
              0,
              "#440154"
             ],
             [
              0.1111111111111111,
              "#482878"
             ],
             [
              0.2222222222222222,
              "#3e4989"
             ],
             [
              0.3333333333333333,
              "#31688e"
             ],
             [
              0.4444444444444444,
              "#26828e"
             ],
             [
              0.5555555555555556,
              "#1f9e89"
             ],
             [
              0.6666666666666666,
              "#35b779"
             ],
             [
              0.7777777777777778,
              "#6ece58"
             ],
             [
              0.8888888888888888,
              "#b5de2b"
             ],
             [
              1,
              "#fde725"
             ]
            ],
            "type": "histogram2d"
           }
          ],
          "histogram2dcontour": [
           {
            "colorbar": {
             "outlinewidth": 1,
             "tickcolor": "rgb(36,36,36)",
             "ticks": "outside"
            },
            "colorscale": [
             [
              0,
              "#440154"
             ],
             [
              0.1111111111111111,
              "#482878"
             ],
             [
              0.2222222222222222,
              "#3e4989"
             ],
             [
              0.3333333333333333,
              "#31688e"
             ],
             [
              0.4444444444444444,
              "#26828e"
             ],
             [
              0.5555555555555556,
              "#1f9e89"
             ],
             [
              0.6666666666666666,
              "#35b779"
             ],
             [
              0.7777777777777778,
              "#6ece58"
             ],
             [
              0.8888888888888888,
              "#b5de2b"
             ],
             [
              1,
              "#fde725"
             ]
            ],
            "type": "histogram2dcontour"
           }
          ],
          "mesh3d": [
           {
            "colorbar": {
             "outlinewidth": 1,
             "tickcolor": "rgb(36,36,36)",
             "ticks": "outside"
            },
            "type": "mesh3d"
           }
          ],
          "parcoords": [
           {
            "line": {
             "colorbar": {
              "outlinewidth": 1,
              "tickcolor": "rgb(36,36,36)",
              "ticks": "outside"
             }
            },
            "type": "parcoords"
           }
          ],
          "pie": [
           {
            "automargin": true,
            "type": "pie"
           }
          ],
          "scatter": [
           {
            "fillpattern": {
             "fillmode": "overlay",
             "size": 10,
             "solidity": 0.2
            },
            "type": "scatter"
           }
          ],
          "scatter3d": [
           {
            "line": {
             "colorbar": {
              "outlinewidth": 1,
              "tickcolor": "rgb(36,36,36)",
              "ticks": "outside"
             }
            },
            "marker": {
             "colorbar": {
              "outlinewidth": 1,
              "tickcolor": "rgb(36,36,36)",
              "ticks": "outside"
             }
            },
            "type": "scatter3d"
           }
          ],
          "scattercarpet": [
           {
            "marker": {
             "colorbar": {
              "outlinewidth": 1,
              "tickcolor": "rgb(36,36,36)",
              "ticks": "outside"
             }
            },
            "type": "scattercarpet"
           }
          ],
          "scattergeo": [
           {
            "marker": {
             "colorbar": {
              "outlinewidth": 1,
              "tickcolor": "rgb(36,36,36)",
              "ticks": "outside"
             }
            },
            "type": "scattergeo"
           }
          ],
          "scattergl": [
           {
            "marker": {
             "colorbar": {
              "outlinewidth": 1,
              "tickcolor": "rgb(36,36,36)",
              "ticks": "outside"
             }
            },
            "type": "scattergl"
           }
          ],
          "scattermapbox": [
           {
            "marker": {
             "colorbar": {
              "outlinewidth": 1,
              "tickcolor": "rgb(36,36,36)",
              "ticks": "outside"
             }
            },
            "type": "scattermapbox"
           }
          ],
          "scatterpolar": [
           {
            "marker": {
             "colorbar": {
              "outlinewidth": 1,
              "tickcolor": "rgb(36,36,36)",
              "ticks": "outside"
             }
            },
            "type": "scatterpolar"
           }
          ],
          "scatterpolargl": [
           {
            "marker": {
             "colorbar": {
              "outlinewidth": 1,
              "tickcolor": "rgb(36,36,36)",
              "ticks": "outside"
             }
            },
            "type": "scatterpolargl"
           }
          ],
          "scatterternary": [
           {
            "marker": {
             "colorbar": {
              "outlinewidth": 1,
              "tickcolor": "rgb(36,36,36)",
              "ticks": "outside"
             }
            },
            "type": "scatterternary"
           }
          ],
          "surface": [
           {
            "colorbar": {
             "outlinewidth": 1,
             "tickcolor": "rgb(36,36,36)",
             "ticks": "outside"
            },
            "colorscale": [
             [
              0,
              "#440154"
             ],
             [
              0.1111111111111111,
              "#482878"
             ],
             [
              0.2222222222222222,
              "#3e4989"
             ],
             [
              0.3333333333333333,
              "#31688e"
             ],
             [
              0.4444444444444444,
              "#26828e"
             ],
             [
              0.5555555555555556,
              "#1f9e89"
             ],
             [
              0.6666666666666666,
              "#35b779"
             ],
             [
              0.7777777777777778,
              "#6ece58"
             ],
             [
              0.8888888888888888,
              "#b5de2b"
             ],
             [
              1,
              "#fde725"
             ]
            ],
            "type": "surface"
           }
          ],
          "table": [
           {
            "cells": {
             "fill": {
              "color": "rgb(237,237,237)"
             },
             "line": {
              "color": "white"
             }
            },
            "header": {
             "fill": {
              "color": "rgb(217,217,217)"
             },
             "line": {
              "color": "white"
             }
            },
            "type": "table"
           }
          ]
         },
         "layout": {
          "annotationdefaults": {
           "arrowhead": 0,
           "arrowwidth": 1
          },
          "autotypenumbers": "strict",
          "coloraxis": {
           "colorbar": {
            "outlinewidth": 1,
            "tickcolor": "rgb(36,36,36)",
            "ticks": "outside"
           }
          },
          "colorscale": {
           "diverging": [
            [
             0,
             "rgb(103,0,31)"
            ],
            [
             0.1,
             "rgb(178,24,43)"
            ],
            [
             0.2,
             "rgb(214,96,77)"
            ],
            [
             0.3,
             "rgb(244,165,130)"
            ],
            [
             0.4,
             "rgb(253,219,199)"
            ],
            [
             0.5,
             "rgb(247,247,247)"
            ],
            [
             0.6,
             "rgb(209,229,240)"
            ],
            [
             0.7,
             "rgb(146,197,222)"
            ],
            [
             0.8,
             "rgb(67,147,195)"
            ],
            [
             0.9,
             "rgb(33,102,172)"
            ],
            [
             1,
             "rgb(5,48,97)"
            ]
           ],
           "sequential": [
            [
             0,
             "#440154"
            ],
            [
             0.1111111111111111,
             "#482878"
            ],
            [
             0.2222222222222222,
             "#3e4989"
            ],
            [
             0.3333333333333333,
             "#31688e"
            ],
            [
             0.4444444444444444,
             "#26828e"
            ],
            [
             0.5555555555555556,
             "#1f9e89"
            ],
            [
             0.6666666666666666,
             "#35b779"
            ],
            [
             0.7777777777777778,
             "#6ece58"
            ],
            [
             0.8888888888888888,
             "#b5de2b"
            ],
            [
             1,
             "#fde725"
            ]
           ],
           "sequentialminus": [
            [
             0,
             "#440154"
            ],
            [
             0.1111111111111111,
             "#482878"
            ],
            [
             0.2222222222222222,
             "#3e4989"
            ],
            [
             0.3333333333333333,
             "#31688e"
            ],
            [
             0.4444444444444444,
             "#26828e"
            ],
            [
             0.5555555555555556,
             "#1f9e89"
            ],
            [
             0.6666666666666666,
             "#35b779"
            ],
            [
             0.7777777777777778,
             "#6ece58"
            ],
            [
             0.8888888888888888,
             "#b5de2b"
            ],
            [
             1,
             "#fde725"
            ]
           ]
          },
          "colorway": [
           "#1F77B4",
           "#FF7F0E",
           "#2CA02C",
           "#D62728",
           "#9467BD",
           "#8C564B",
           "#E377C2",
           "#7F7F7F",
           "#BCBD22",
           "#17BECF"
          ],
          "font": {
           "color": "rgb(36,36,36)"
          },
          "geo": {
           "bgcolor": "white",
           "lakecolor": "white",
           "landcolor": "white",
           "showlakes": true,
           "showland": true,
           "subunitcolor": "white"
          },
          "hoverlabel": {
           "align": "left"
          },
          "hovermode": "closest",
          "mapbox": {
           "style": "light"
          },
          "paper_bgcolor": "white",
          "plot_bgcolor": "white",
          "polar": {
           "angularaxis": {
            "gridcolor": "rgb(232,232,232)",
            "linecolor": "rgb(36,36,36)",
            "showgrid": false,
            "showline": true,
            "ticks": "outside"
           },
           "bgcolor": "white",
           "radialaxis": {
            "gridcolor": "rgb(232,232,232)",
            "linecolor": "rgb(36,36,36)",
            "showgrid": false,
            "showline": true,
            "ticks": "outside"
           }
          },
          "scene": {
           "xaxis": {
            "backgroundcolor": "white",
            "gridcolor": "rgb(232,232,232)",
            "gridwidth": 2,
            "linecolor": "rgb(36,36,36)",
            "showbackground": true,
            "showgrid": false,
            "showline": true,
            "ticks": "outside",
            "zeroline": false,
            "zerolinecolor": "rgb(36,36,36)"
           },
           "yaxis": {
            "backgroundcolor": "white",
            "gridcolor": "rgb(232,232,232)",
            "gridwidth": 2,
            "linecolor": "rgb(36,36,36)",
            "showbackground": true,
            "showgrid": false,
            "showline": true,
            "ticks": "outside",
            "zeroline": false,
            "zerolinecolor": "rgb(36,36,36)"
           },
           "zaxis": {
            "backgroundcolor": "white",
            "gridcolor": "rgb(232,232,232)",
            "gridwidth": 2,
            "linecolor": "rgb(36,36,36)",
            "showbackground": true,
            "showgrid": false,
            "showline": true,
            "ticks": "outside",
            "zeroline": false,
            "zerolinecolor": "rgb(36,36,36)"
           }
          },
          "shapedefaults": {
           "fillcolor": "black",
           "line": {
            "width": 0
           },
           "opacity": 0.3
          },
          "ternary": {
           "aaxis": {
            "gridcolor": "rgb(232,232,232)",
            "linecolor": "rgb(36,36,36)",
            "showgrid": false,
            "showline": true,
            "ticks": "outside"
           },
           "baxis": {
            "gridcolor": "rgb(232,232,232)",
            "linecolor": "rgb(36,36,36)",
            "showgrid": false,
            "showline": true,
            "ticks": "outside"
           },
           "bgcolor": "white",
           "caxis": {
            "gridcolor": "rgb(232,232,232)",
            "linecolor": "rgb(36,36,36)",
            "showgrid": false,
            "showline": true,
            "ticks": "outside"
           }
          },
          "title": {
           "x": 0.05
          },
          "xaxis": {
           "automargin": true,
           "gridcolor": "rgb(232,232,232)",
           "linecolor": "rgb(36,36,36)",
           "showgrid": false,
           "showline": true,
           "ticks": "outside",
           "title": {
            "standoff": 15
           },
           "zeroline": false,
           "zerolinecolor": "rgb(36,36,36)"
          },
          "yaxis": {
           "automargin": true,
           "gridcolor": "rgb(232,232,232)",
           "linecolor": "rgb(36,36,36)",
           "showgrid": false,
           "showline": true,
           "ticks": "outside",
           "title": {
            "standoff": 15
           },
           "zeroline": false,
           "zerolinecolor": "rgb(36,36,36)"
          }
         }
        },
        "title": {
         "font": {
          "color": "Black",
          "size": 22
         },
         "text": "Intertopic Distance Map of Immigration News Topics",
         "x": 0.5,
         "xanchor": "center",
         "y": 0.95,
         "yanchor": "top"
        },
        "width": 650,
        "xaxis": {
         "anchor": "y",
         "domain": [
          0,
          1
         ],
         "range": [
          0.5914235711097717,
          21.307901763916014
         ],
         "title": {
          "text": ""
         },
         "visible": false
        },
        "yaxis": {
         "anchor": "x",
         "domain": [
          0,
          1
         ],
         "range": [
          -9.754718255996703,
          23.828288745880126
         ],
         "title": {
          "text": ""
         },
         "visible": false
        }
       }
      }
     },
     "metadata": {},
     "output_type": "display_data"
    }
   ],
   "source": [
    "# Visualize topics\n",
    "fig = news_model.visualize_topics(custom_labels=True)\n",
    "\n",
    "# Update the layout to change the title\n",
    "fig.update_layout(title_text='Intertopic Distance Map of Immigration News Topics')\n",
    "\n",
    "# Change the color of the bubbles\n",
    "fig.update_traces(marker=dict(color='rgba(0, 128, 128, 0.6)', \n",
    "                              line=dict(color='DarkSlateGrey', width=2)))\n",
    "# Show the plot\n",
    "fig.show()"
   ]
  },
  {
   "cell_type": "code",
   "execution_count": 10,
   "metadata": {},
   "outputs": [],
   "source": [
    "# save fig to html\n",
    "fig.write_html(\"news_intertopic_map.html\")"
   ]
  },
  {
   "cell_type": "markdown",
   "metadata": {},
   "source": [
    "### Custom labels"
   ]
  },
  {
   "cell_type": "code",
   "execution_count": 6,
   "metadata": {},
   "outputs": [],
   "source": [
    "news_topic_labels = {\n",
    "    0: \"1: Rwanda Court Ruling\",\n",
    "    1: \"2: Asylum Seekers Accommodation\",\n",
    "    2: \"3: Taliban Convictions\",\n",
    "    3: \"4: Braverman Immigration Policy\",\n",
    "    4: \"5: Migration Record Figures\",\n",
    "    5: \"6: Rishi Sunak Politics\",\n",
    "    6: \"7: Illegal Migration Legislation\",\n",
    "    7: \"8: Migrants Crossing\",\n",
    "    8: \"9: RAF Scampton Asylum\",\n",
    "    9: \"10: Migrant Boat Tragedies\",\n",
    "    10: \"11: Bibby Stockholm Barge\",\n",
    "    11: \"12: EU Migration Deal\",\n",
    "    12: \"13: UK Police Crimes\",\n",
    "    13: \"14: Protests at Hotels\",\n",
    "    14: \"15: Migrant Smuggling Gangs\",\n",
    "    15: \"16: Gary Lineker Controversy\",\n",
    "    16: \"17: Foreign Worker Visas\",\n",
    "    17: \"18: Asylum Claims Backlog\",\n",
    "    18: \"19: Missing Unaccompanied Children\",\n",
    "    19: \"20: Legionella on Barge\",\n",
    "    20: \"21: Portland Asylum Barge\",\n",
    "    21: \"22: Stopping Migrant Boats\",\n",
    "    22: \"23: Emmanuel Macron Politics\",\n",
    "    23: \"24: Foreign University Students\",\n",
    "    24: \"25: European Human Rights\",\n",
    "    25: \"26: Archbishop on Migration\"\n",
    "}\n",
    "\n",
    "news_model.set_topic_labels(news_topic_labels)"
   ]
  },
  {
   "cell_type": "code",
   "execution_count": 4,
   "metadata": {},
   "outputs": [
    {
     "data": {
      "application/vnd.plotly.v1+json": {
       "config": {
        "plotlyServerURL": "https://plot.ly"
       },
       "data": [
        {
         "hoverinfo": "text",
         "marker": {
          "color": "rgb(61,153,112)"
         },
         "mode": "lines",
         "type": "scatter",
         "x": [
          0,
          0.5837065720518362,
          0.5837065720518362,
          0
         ],
         "xaxis": "x",
         "y": [
          -15,
          -15,
          -25,
          -25
         ],
         "yaxis": "y"
        },
        {
         "hoverinfo": "text",
         "marker": {
          "color": "rgb(61,153,112)"
         },
         "mode": "lines",
         "type": "scatter",
         "x": [
          0,
          0.7707123185745934,
          0.7707123185745934,
          0.5837065720518362
         ],
         "xaxis": "x",
         "y": [
          -5,
          -5,
          -20,
          -20
         ],
         "yaxis": "y"
        },
        {
         "hoverinfo": "text",
         "marker": {
          "color": "rgb(255,65,54)"
         },
         "mode": "lines",
         "type": "scatter",
         "x": [
          0,
          0.506655655749865,
          0.506655655749865,
          0
         ],
         "xaxis": "x",
         "y": [
          -55,
          -55,
          -65,
          -65
         ],
         "yaxis": "y"
        },
        {
         "hoverinfo": "text",
         "marker": {
          "color": "rgb(255,65,54)"
         },
         "mode": "lines",
         "type": "scatter",
         "x": [
          0,
          0.6202295196414184,
          0.6202295196414184,
          0
         ],
         "xaxis": "x",
         "y": [
          -75,
          -75,
          -85,
          -85
         ],
         "yaxis": "y"
        },
        {
         "hoverinfo": "text",
         "marker": {
          "color": "rgb(255,65,54)"
         },
         "mode": "lines",
         "type": "scatter",
         "x": [
          0.506655655749865,
          0.6375749104512819,
          0.6375749104512819,
          0.6202295196414184
         ],
         "xaxis": "x",
         "y": [
          -60,
          -60,
          -80,
          -80
         ],
         "yaxis": "y"
        },
        {
         "hoverinfo": "text",
         "marker": {
          "color": "rgb(255,65,54)"
         },
         "mode": "lines",
         "type": "scatter",
         "x": [
          0,
          0.6744187711145838,
          0.6744187711145838,
          0.6375749104512819
         ],
         "xaxis": "x",
         "y": [
          -45,
          -45,
          -70,
          -70
         ],
         "yaxis": "y"
        },
        {
         "hoverinfo": "text",
         "marker": {
          "color": "rgb(255,65,54)"
         },
         "mode": "lines",
         "type": "scatter",
         "x": [
          0,
          0.6034269989522982,
          0.6034269989522982,
          0
         ],
         "xaxis": "x",
         "y": [
          -95,
          -95,
          -105,
          -105
         ],
         "yaxis": "y"
        },
        {
         "hoverinfo": "text",
         "marker": {
          "color": "rgb(255,65,54)"
         },
         "mode": "lines",
         "type": "scatter",
         "x": [
          0.6744187711145838,
          0.7409955274993905,
          0.7409955274993905,
          0.6034269989522982
         ],
         "xaxis": "x",
         "y": [
          -57.5,
          -57.5,
          -100,
          -100
         ],
         "yaxis": "y"
        },
        {
         "hoverinfo": "text",
         "marker": {
          "color": "rgb(255,65,54)"
         },
         "mode": "lines",
         "type": "scatter",
         "x": [
          0,
          0.9071929170029188,
          0.9071929170029188,
          0.7409955274993905
         ],
         "xaxis": "x",
         "y": [
          -35,
          -35,
          -78.75,
          -78.75
         ],
         "yaxis": "y"
        },
        {
         "hoverinfo": "text",
         "marker": {
          "color": "rgb(255,65,54)"
         },
         "mode": "lines",
         "type": "scatter",
         "x": [
          0.9071929170029188,
          0.9538001043384668,
          0.9538001043384668,
          0
         ],
         "xaxis": "x",
         "y": [
          -56.875,
          -56.875,
          -115,
          -115
         ],
         "yaxis": "y"
        },
        {
         "hoverinfo": "text",
         "marker": {
          "color": "rgb(0,116,217)"
         },
         "mode": "lines",
         "type": "scatter",
         "x": [
          0.7707123185745934,
          1.162625802015494,
          1.162625802015494,
          0.9538001043384668
         ],
         "xaxis": "x",
         "y": [
          -12.5,
          -12.5,
          -85.9375,
          -85.9375
         ],
         "yaxis": "y"
        },
        {
         "hoverinfo": "text",
         "marker": {
          "color": "rgb(35,205,205)"
         },
         "mode": "lines",
         "type": "scatter",
         "x": [
          0,
          0.5308503986586831,
          0.5308503986586831,
          0
         ],
         "xaxis": "x",
         "y": [
          -135,
          -135,
          -145,
          -145
         ],
         "yaxis": "y"
        },
        {
         "hoverinfo": "text",
         "marker": {
          "color": "rgb(35,205,205)"
         },
         "mode": "lines",
         "type": "scatter",
         "x": [
          0.5308503986586831,
          0.6640109003911652,
          0.6640109003911652,
          0
         ],
         "xaxis": "x",
         "y": [
          -140,
          -140,
          -155,
          -155
         ],
         "yaxis": "y"
        },
        {
         "hoverinfo": "text",
         "marker": {
          "color": "rgb(35,205,205)"
         },
         "mode": "lines",
         "type": "scatter",
         "x": [
          0,
          0.9276092960683627,
          0.9276092960683627,
          0.6640109003911652
         ],
         "xaxis": "x",
         "y": [
          -125,
          -125,
          -147.5,
          -147.5
         ],
         "yaxis": "y"
        },
        {
         "hoverinfo": "text",
         "marker": {
          "color": "rgb(133,20,75)"
         },
         "mode": "lines",
         "type": "scatter",
         "x": [
          0,
          0.6771855539985213,
          0.6771855539985213,
          0
         ],
         "xaxis": "x",
         "y": [
          -165,
          -165,
          -175,
          -175
         ],
         "yaxis": "y"
        },
        {
         "hoverinfo": "text",
         "marker": {
          "color": "rgb(133,20,75)"
         },
         "mode": "lines",
         "type": "scatter",
         "x": [
          0.6771855539985213,
          0.7036699057242147,
          0.7036699057242147,
          0
         ],
         "xaxis": "x",
         "y": [
          -170,
          -170,
          -185,
          -185
         ],
         "yaxis": "y"
        },
        {
         "hoverinfo": "text",
         "marker": {
          "color": "rgb(133,20,75)"
         },
         "mode": "lines",
         "type": "scatter",
         "x": [
          0,
          0.518303540243543,
          0.518303540243543,
          0
         ],
         "xaxis": "x",
         "y": [
          -205,
          -205,
          -215,
          -215
         ],
         "yaxis": "y"
        },
        {
         "hoverinfo": "text",
         "marker": {
          "color": "rgb(133,20,75)"
         },
         "mode": "lines",
         "type": "scatter",
         "x": [
          0.518303540243543,
          0.7038202468488882,
          0.7038202468488882,
          0
         ],
         "xaxis": "x",
         "y": [
          -210,
          -210,
          -225,
          -225
         ],
         "yaxis": "y"
        },
        {
         "hoverinfo": "text",
         "marker": {
          "color": "rgb(133,20,75)"
         },
         "mode": "lines",
         "type": "scatter",
         "x": [
          0,
          0.8026946486825244,
          0.8026946486825244,
          0.7038202468488882
         ],
         "xaxis": "x",
         "y": [
          -195,
          -195,
          -217.5,
          -217.5
         ],
         "yaxis": "y"
        },
        {
         "hoverinfo": "text",
         "marker": {
          "color": "rgb(133,20,75)"
         },
         "mode": "lines",
         "type": "scatter",
         "x": [
          0.7036699057242147,
          0.9657112688478102,
          0.9657112688478102,
          0.8026946486825244
         ],
         "xaxis": "x",
         "y": [
          -177.5,
          -177.5,
          -206.25,
          -206.25
         ],
         "yaxis": "y"
        },
        {
         "hoverinfo": "text",
         "marker": {
          "color": "rgb(0,116,217)"
         },
         "mode": "lines",
         "type": "scatter",
         "x": [
          0.9276092960683627,
          1.1596012063302763,
          1.1596012063302763,
          0.9657112688478102
         ],
         "xaxis": "x",
         "y": [
          -136.25,
          -136.25,
          -191.875,
          -191.875
         ],
         "yaxis": "y"
        },
        {
         "hoverinfo": "text",
         "marker": {
          "color": "rgb(255,220,0)"
         },
         "mode": "lines",
         "type": "scatter",
         "x": [
          0,
          0.4231908771952164,
          0.4231908771952164,
          0
         ],
         "xaxis": "x",
         "y": [
          -235,
          -235,
          -245,
          -245
         ],
         "yaxis": "y"
        },
        {
         "hoverinfo": "text",
         "marker": {
          "color": "rgb(255,220,0)"
         },
         "mode": "lines",
         "type": "scatter",
         "x": [
          0.4231908771952164,
          0.592675711730276,
          0.592675711730276,
          0
         ],
         "xaxis": "x",
         "y": [
          -240,
          -240,
          -255,
          -255
         ],
         "yaxis": "y"
        },
        {
         "hoverinfo": "text",
         "marker": {
          "color": "rgb(0,116,217)"
         },
         "mode": "lines",
         "type": "scatter",
         "x": [
          1.1596012063302763,
          1.2771766868659014,
          1.2771766868659014,
          0.592675711730276
         ],
         "xaxis": "x",
         "y": [
          -164.0625,
          -164.0625,
          -247.5,
          -247.5
         ],
         "yaxis": "y"
        },
        {
         "hoverinfo": "text",
         "marker": {
          "color": "rgb(0,116,217)"
         },
         "mode": "lines",
         "type": "scatter",
         "x": [
          1.162625802015494,
          1.4290468702694352,
          1.4290468702694352,
          1.2771766868659014
         ],
         "xaxis": "x",
         "y": [
          -49.21875,
          -49.21875,
          -205.78125,
          -205.78125
         ],
         "yaxis": "y"
        }
       ],
       "layout": {
        "autosize": false,
        "height": 590,
        "hoverlabel": {
         "bgcolor": "white",
         "font": {
          "family": "Rockwell",
          "size": 16
         }
        },
        "hovermode": "closest",
        "plot_bgcolor": "#ECEFF1",
        "showlegend": false,
        "template": {
         "data": {
          "bar": [
           {
            "error_x": {
             "color": "#2a3f5f"
            },
            "error_y": {
             "color": "#2a3f5f"
            },
            "marker": {
             "line": {
              "color": "white",
              "width": 0.5
             },
             "pattern": {
              "fillmode": "overlay",
              "size": 10,
              "solidity": 0.2
             }
            },
            "type": "bar"
           }
          ],
          "barpolar": [
           {
            "marker": {
             "line": {
              "color": "white",
              "width": 0.5
             },
             "pattern": {
              "fillmode": "overlay",
              "size": 10,
              "solidity": 0.2
             }
            },
            "type": "barpolar"
           }
          ],
          "carpet": [
           {
            "aaxis": {
             "endlinecolor": "#2a3f5f",
             "gridcolor": "#C8D4E3",
             "linecolor": "#C8D4E3",
             "minorgridcolor": "#C8D4E3",
             "startlinecolor": "#2a3f5f"
            },
            "baxis": {
             "endlinecolor": "#2a3f5f",
             "gridcolor": "#C8D4E3",
             "linecolor": "#C8D4E3",
             "minorgridcolor": "#C8D4E3",
             "startlinecolor": "#2a3f5f"
            },
            "type": "carpet"
           }
          ],
          "choropleth": [
           {
            "colorbar": {
             "outlinewidth": 0,
             "ticks": ""
            },
            "type": "choropleth"
           }
          ],
          "contour": [
           {
            "colorbar": {
             "outlinewidth": 0,
             "ticks": ""
            },
            "colorscale": [
             [
              0,
              "#0d0887"
             ],
             [
              0.1111111111111111,
              "#46039f"
             ],
             [
              0.2222222222222222,
              "#7201a8"
             ],
             [
              0.3333333333333333,
              "#9c179e"
             ],
             [
              0.4444444444444444,
              "#bd3786"
             ],
             [
              0.5555555555555556,
              "#d8576b"
             ],
             [
              0.6666666666666666,
              "#ed7953"
             ],
             [
              0.7777777777777778,
              "#fb9f3a"
             ],
             [
              0.8888888888888888,
              "#fdca26"
             ],
             [
              1,
              "#f0f921"
             ]
            ],
            "type": "contour"
           }
          ],
          "contourcarpet": [
           {
            "colorbar": {
             "outlinewidth": 0,
             "ticks": ""
            },
            "type": "contourcarpet"
           }
          ],
          "heatmap": [
           {
            "colorbar": {
             "outlinewidth": 0,
             "ticks": ""
            },
            "colorscale": [
             [
              0,
              "#0d0887"
             ],
             [
              0.1111111111111111,
              "#46039f"
             ],
             [
              0.2222222222222222,
              "#7201a8"
             ],
             [
              0.3333333333333333,
              "#9c179e"
             ],
             [
              0.4444444444444444,
              "#bd3786"
             ],
             [
              0.5555555555555556,
              "#d8576b"
             ],
             [
              0.6666666666666666,
              "#ed7953"
             ],
             [
              0.7777777777777778,
              "#fb9f3a"
             ],
             [
              0.8888888888888888,
              "#fdca26"
             ],
             [
              1,
              "#f0f921"
             ]
            ],
            "type": "heatmap"
           }
          ],
          "heatmapgl": [
           {
            "colorbar": {
             "outlinewidth": 0,
             "ticks": ""
            },
            "colorscale": [
             [
              0,
              "#0d0887"
             ],
             [
              0.1111111111111111,
              "#46039f"
             ],
             [
              0.2222222222222222,
              "#7201a8"
             ],
             [
              0.3333333333333333,
              "#9c179e"
             ],
             [
              0.4444444444444444,
              "#bd3786"
             ],
             [
              0.5555555555555556,
              "#d8576b"
             ],
             [
              0.6666666666666666,
              "#ed7953"
             ],
             [
              0.7777777777777778,
              "#fb9f3a"
             ],
             [
              0.8888888888888888,
              "#fdca26"
             ],
             [
              1,
              "#f0f921"
             ]
            ],
            "type": "heatmapgl"
           }
          ],
          "histogram": [
           {
            "marker": {
             "pattern": {
              "fillmode": "overlay",
              "size": 10,
              "solidity": 0.2
             }
            },
            "type": "histogram"
           }
          ],
          "histogram2d": [
           {
            "colorbar": {
             "outlinewidth": 0,
             "ticks": ""
            },
            "colorscale": [
             [
              0,
              "#0d0887"
             ],
             [
              0.1111111111111111,
              "#46039f"
             ],
             [
              0.2222222222222222,
              "#7201a8"
             ],
             [
              0.3333333333333333,
              "#9c179e"
             ],
             [
              0.4444444444444444,
              "#bd3786"
             ],
             [
              0.5555555555555556,
              "#d8576b"
             ],
             [
              0.6666666666666666,
              "#ed7953"
             ],
             [
              0.7777777777777778,
              "#fb9f3a"
             ],
             [
              0.8888888888888888,
              "#fdca26"
             ],
             [
              1,
              "#f0f921"
             ]
            ],
            "type": "histogram2d"
           }
          ],
          "histogram2dcontour": [
           {
            "colorbar": {
             "outlinewidth": 0,
             "ticks": ""
            },
            "colorscale": [
             [
              0,
              "#0d0887"
             ],
             [
              0.1111111111111111,
              "#46039f"
             ],
             [
              0.2222222222222222,
              "#7201a8"
             ],
             [
              0.3333333333333333,
              "#9c179e"
             ],
             [
              0.4444444444444444,
              "#bd3786"
             ],
             [
              0.5555555555555556,
              "#d8576b"
             ],
             [
              0.6666666666666666,
              "#ed7953"
             ],
             [
              0.7777777777777778,
              "#fb9f3a"
             ],
             [
              0.8888888888888888,
              "#fdca26"
             ],
             [
              1,
              "#f0f921"
             ]
            ],
            "type": "histogram2dcontour"
           }
          ],
          "mesh3d": [
           {
            "colorbar": {
             "outlinewidth": 0,
             "ticks": ""
            },
            "type": "mesh3d"
           }
          ],
          "parcoords": [
           {
            "line": {
             "colorbar": {
              "outlinewidth": 0,
              "ticks": ""
             }
            },
            "type": "parcoords"
           }
          ],
          "pie": [
           {
            "automargin": true,
            "type": "pie"
           }
          ],
          "scatter": [
           {
            "fillpattern": {
             "fillmode": "overlay",
             "size": 10,
             "solidity": 0.2
            },
            "type": "scatter"
           }
          ],
          "scatter3d": [
           {
            "line": {
             "colorbar": {
              "outlinewidth": 0,
              "ticks": ""
             }
            },
            "marker": {
             "colorbar": {
              "outlinewidth": 0,
              "ticks": ""
             }
            },
            "type": "scatter3d"
           }
          ],
          "scattercarpet": [
           {
            "marker": {
             "colorbar": {
              "outlinewidth": 0,
              "ticks": ""
             }
            },
            "type": "scattercarpet"
           }
          ],
          "scattergeo": [
           {
            "marker": {
             "colorbar": {
              "outlinewidth": 0,
              "ticks": ""
             }
            },
            "type": "scattergeo"
           }
          ],
          "scattergl": [
           {
            "marker": {
             "colorbar": {
              "outlinewidth": 0,
              "ticks": ""
             }
            },
            "type": "scattergl"
           }
          ],
          "scattermapbox": [
           {
            "marker": {
             "colorbar": {
              "outlinewidth": 0,
              "ticks": ""
             }
            },
            "type": "scattermapbox"
           }
          ],
          "scatterpolar": [
           {
            "marker": {
             "colorbar": {
              "outlinewidth": 0,
              "ticks": ""
             }
            },
            "type": "scatterpolar"
           }
          ],
          "scatterpolargl": [
           {
            "marker": {
             "colorbar": {
              "outlinewidth": 0,
              "ticks": ""
             }
            },
            "type": "scatterpolargl"
           }
          ],
          "scatterternary": [
           {
            "marker": {
             "colorbar": {
              "outlinewidth": 0,
              "ticks": ""
             }
            },
            "type": "scatterternary"
           }
          ],
          "surface": [
           {
            "colorbar": {
             "outlinewidth": 0,
             "ticks": ""
            },
            "colorscale": [
             [
              0,
              "#0d0887"
             ],
             [
              0.1111111111111111,
              "#46039f"
             ],
             [
              0.2222222222222222,
              "#7201a8"
             ],
             [
              0.3333333333333333,
              "#9c179e"
             ],
             [
              0.4444444444444444,
              "#bd3786"
             ],
             [
              0.5555555555555556,
              "#d8576b"
             ],
             [
              0.6666666666666666,
              "#ed7953"
             ],
             [
              0.7777777777777778,
              "#fb9f3a"
             ],
             [
              0.8888888888888888,
              "#fdca26"
             ],
             [
              1,
              "#f0f921"
             ]
            ],
            "type": "surface"
           }
          ],
          "table": [
           {
            "cells": {
             "fill": {
              "color": "#EBF0F8"
             },
             "line": {
              "color": "white"
             }
            },
            "header": {
             "fill": {
              "color": "#C8D4E3"
             },
             "line": {
              "color": "white"
             }
            },
            "type": "table"
           }
          ]
         },
         "layout": {
          "annotationdefaults": {
           "arrowcolor": "#2a3f5f",
           "arrowhead": 0,
           "arrowwidth": 1
          },
          "autotypenumbers": "strict",
          "coloraxis": {
           "colorbar": {
            "outlinewidth": 0,
            "ticks": ""
           }
          },
          "colorscale": {
           "diverging": [
            [
             0,
             "#8e0152"
            ],
            [
             0.1,
             "#c51b7d"
            ],
            [
             0.2,
             "#de77ae"
            ],
            [
             0.3,
             "#f1b6da"
            ],
            [
             0.4,
             "#fde0ef"
            ],
            [
             0.5,
             "#f7f7f7"
            ],
            [
             0.6,
             "#e6f5d0"
            ],
            [
             0.7,
             "#b8e186"
            ],
            [
             0.8,
             "#7fbc41"
            ],
            [
             0.9,
             "#4d9221"
            ],
            [
             1,
             "#276419"
            ]
           ],
           "sequential": [
            [
             0,
             "#0d0887"
            ],
            [
             0.1111111111111111,
             "#46039f"
            ],
            [
             0.2222222222222222,
             "#7201a8"
            ],
            [
             0.3333333333333333,
             "#9c179e"
            ],
            [
             0.4444444444444444,
             "#bd3786"
            ],
            [
             0.5555555555555556,
             "#d8576b"
            ],
            [
             0.6666666666666666,
             "#ed7953"
            ],
            [
             0.7777777777777778,
             "#fb9f3a"
            ],
            [
             0.8888888888888888,
             "#fdca26"
            ],
            [
             1,
             "#f0f921"
            ]
           ],
           "sequentialminus": [
            [
             0,
             "#0d0887"
            ],
            [
             0.1111111111111111,
             "#46039f"
            ],
            [
             0.2222222222222222,
             "#7201a8"
            ],
            [
             0.3333333333333333,
             "#9c179e"
            ],
            [
             0.4444444444444444,
             "#bd3786"
            ],
            [
             0.5555555555555556,
             "#d8576b"
            ],
            [
             0.6666666666666666,
             "#ed7953"
            ],
            [
             0.7777777777777778,
             "#fb9f3a"
            ],
            [
             0.8888888888888888,
             "#fdca26"
            ],
            [
             1,
             "#f0f921"
            ]
           ]
          },
          "colorway": [
           "#636efa",
           "#EF553B",
           "#00cc96",
           "#ab63fa",
           "#FFA15A",
           "#19d3f3",
           "#FF6692",
           "#B6E880",
           "#FF97FF",
           "#FECB52"
          ],
          "font": {
           "color": "#2a3f5f"
          },
          "geo": {
           "bgcolor": "white",
           "lakecolor": "white",
           "landcolor": "white",
           "showlakes": true,
           "showland": true,
           "subunitcolor": "#C8D4E3"
          },
          "hoverlabel": {
           "align": "left"
          },
          "hovermode": "closest",
          "mapbox": {
           "style": "light"
          },
          "paper_bgcolor": "white",
          "plot_bgcolor": "white",
          "polar": {
           "angularaxis": {
            "gridcolor": "#EBF0F8",
            "linecolor": "#EBF0F8",
            "ticks": ""
           },
           "bgcolor": "white",
           "radialaxis": {
            "gridcolor": "#EBF0F8",
            "linecolor": "#EBF0F8",
            "ticks": ""
           }
          },
          "scene": {
           "xaxis": {
            "backgroundcolor": "white",
            "gridcolor": "#DFE8F3",
            "gridwidth": 2,
            "linecolor": "#EBF0F8",
            "showbackground": true,
            "ticks": "",
            "zerolinecolor": "#EBF0F8"
           },
           "yaxis": {
            "backgroundcolor": "white",
            "gridcolor": "#DFE8F3",
            "gridwidth": 2,
            "linecolor": "#EBF0F8",
            "showbackground": true,
            "ticks": "",
            "zerolinecolor": "#EBF0F8"
           },
           "zaxis": {
            "backgroundcolor": "white",
            "gridcolor": "#DFE8F3",
            "gridwidth": 2,
            "linecolor": "#EBF0F8",
            "showbackground": true,
            "ticks": "",
            "zerolinecolor": "#EBF0F8"
           }
          },
          "shapedefaults": {
           "line": {
            "color": "#2a3f5f"
           }
          },
          "ternary": {
           "aaxis": {
            "gridcolor": "#DFE8F3",
            "linecolor": "#A2B1C6",
            "ticks": ""
           },
           "baxis": {
            "gridcolor": "#DFE8F3",
            "linecolor": "#A2B1C6",
            "ticks": ""
           },
           "bgcolor": "white",
           "caxis": {
            "gridcolor": "#DFE8F3",
            "linecolor": "#A2B1C6",
            "ticks": ""
           }
          },
          "title": {
           "x": 0.05
          },
          "xaxis": {
           "automargin": true,
           "gridcolor": "#EBF0F8",
           "linecolor": "#EBF0F8",
           "ticks": "",
           "title": {
            "standoff": 15
           },
           "zerolinecolor": "#EBF0F8",
           "zerolinewidth": 2
          },
          "yaxis": {
           "automargin": true,
           "gridcolor": "#EBF0F8",
           "linecolor": "#EBF0F8",
           "ticks": "",
           "title": {
            "standoff": 15
           },
           "zerolinecolor": "#EBF0F8",
           "zerolinewidth": 2
          }
         }
        },
        "title": {
         "font": {
          "color": "Black",
          "size": 20
         },
         "text": "Hierarchical Clustering of News Topics",
         "x": 0.5,
         "xanchor": "center",
         "y": 0.9,
         "yanchor": "top"
        },
        "width": 1000,
        "xaxis": {
         "mirror": "allticks",
         "rangemode": "tozero",
         "showgrid": false,
         "showline": true,
         "showticklabels": true,
         "ticks": "outside",
         "type": "linear",
         "zeroline": false
        },
        "yaxis": {
         "mirror": "allticks",
         "range": [
          -260,
          0
         ],
         "rangemode": "tozero",
         "showgrid": false,
         "showline": true,
         "showticklabels": true,
         "tickmode": "array",
         "ticks": "outside",
         "ticktext": [
          "24: Foreign University Students",
          "17: Foreign Worker Visas",
          "5: Migration Record Figures",
          "16: Gary Lineker Controversy",
          "12: EU Migration Deal",
          "7: Illegal Migration Legislation",
          "22: Stopping Migrant Boats",
          "6: Rishi Sunak Politics",
          "4: Braverman Immigration Policy",
          "1: Rwanda Court Ruling",
          "25: European Human Rights",
          "26: Archbishop on Migration",
          "23: Emmanuel Macron Politics",
          "15: Migrant Smuggling Gangs",
          "8: Migrants Crossing",
          "10: Migrant Boat Tragedies",
          "14: Protests at Hotels",
          "13: UK Police Crimes",
          "3: Taliban Convictions",
          "19: Missing Unaccompanied Children",
          "18: Asylum Claims Backlog",
          "2: Asylum Seekers Accommodation",
          "9: RAF Scampton Asylum",
          "21: Portland Asylum Barge",
          "11: Bibby Stockholm Barge",
          "20: Legionella on Barge"
         ],
         "tickvals": [
          -5,
          -15,
          -25,
          -35,
          -45,
          -55,
          -65,
          -75,
          -85,
          -95,
          -105,
          -115,
          -125,
          -135,
          -145,
          -155,
          -165,
          -175,
          -185,
          -195,
          -205,
          -215,
          -225,
          -235,
          -245,
          -255
         ],
         "type": "linear",
         "zeroline": false
        }
       }
      }
     },
     "metadata": {},
     "output_type": "display_data"
    }
   ],
   "source": [
    "fig = news_model.visualize_hierarchy(custom_labels=True)\n",
    "fig.update_layout(\n",
    "    title={\n",
    "        'text': \"Hierarchical Clustering of News Topics\",\n",
    "        'y':0.9,\n",
    "        'x':0.5,\n",
    "        'xanchor': 'center',\n",
    "        'yanchor': 'top',\n",
    "        'font': {\n",
    "            'size': 20\n",
    "        }\n",
    "    }\n",
    ")\n",
    "fig.show()"
   ]
  },
  {
   "cell_type": "code",
   "execution_count": 11,
   "metadata": {},
   "outputs": [
    {
     "data": {
      "application/vnd.plotly.v1+json": {
       "config": {
        "plotlyServerURL": "https://plot.ly"
       },
       "data": [
        {
         "coloraxis": "coloraxis",
         "hovertemplate": "x: %{x}<br>y: %{y}<br>Similarity Score: %{z}<extra></extra>",
         "name": "0",
         "type": "heatmap",
         "x": [
          "1: Rwanda Court Ruling",
          "4: Braverman Immigration Policy",
          "6: Rishi Sunak Politics",
          "7: Illegal Migration Legislation",
          "12: EU Migration Deal",
          "16: Gary Lineker Controversy",
          "22: Stopping Migrant Boats",
          "23: Emmanuel Macron Politics",
          "25: European Human Rights",
          "26: Archbishop on Migration",
          "2: Asylum Seekers Accommodation",
          "9: RAF Scampton Asylum",
          "18: Asylum Claims Backlog",
          "3: Taliban Convictions",
          "13: UK Police Crimes",
          "14: Protests at Hotels",
          "19: Missing Unaccompanied Children",
          "5: Migration Record Figures",
          "17: Foreign Worker Visas",
          "24: Foreign University Students",
          "8: Migrants Crossing",
          "10: Migrant Boat Tragedies",
          "11: Bibby Stockholm Barge",
          "15: Migrant Smuggling Gangs",
          "20: Legionella on Barge",
          "21: Portland Asylum Barge"
         ],
         "xaxis": "x",
         "y": [
          "1: Rwanda Court Ruling",
          "4: Braverman Immigration Policy",
          "6: Rishi Sunak Politics",
          "7: Illegal Migration Legislation",
          "12: EU Migration Deal",
          "16: Gary Lineker Controversy",
          "22: Stopping Migrant Boats",
          "23: Emmanuel Macron Politics",
          "25: European Human Rights",
          "26: Archbishop on Migration",
          "2: Asylum Seekers Accommodation",
          "9: RAF Scampton Asylum",
          "18: Asylum Claims Backlog",
          "3: Taliban Convictions",
          "13: UK Police Crimes",
          "14: Protests at Hotels",
          "19: Missing Unaccompanied Children",
          "5: Migration Record Figures",
          "17: Foreign Worker Visas",
          "24: Foreign University Students",
          "8: Migrants Crossing",
          "10: Migrant Boat Tragedies",
          "11: Bibby Stockholm Barge",
          "15: Migrant Smuggling Gangs",
          "20: Legionella on Barge",
          "21: Portland Asylum Barge"
         ],
         "yaxis": "y",
         "z": [
          [
           1.000000238418579,
           0.6442880630493164,
           0.5715941786766052,
           0.6931968927383423,
           0.6675300598144531,
           0.4437870383262634,
           0.6083564162254333,
           0.46657320857048035,
           0.5946568846702576,
           0.5378581881523132,
           0.5631364583969116,
           0.4651836156845093,
           0.6012481451034546,
           0.5024974346160889,
           0.35475993156433105,
           0.4236050844192505,
           0.44981086254119873,
           0.46911296248435974,
           0.4991764724254608,
           0.44865334033966064,
           0.37998199462890625,
           0.34778743982315063,
           0.40259894728660583,
           0.4977482557296753,
           0.4540121555328369,
           0.4424915909767151
          ],
          [
           0.6442880630493164,
           0.9999997615814209,
           0.6991298198699951,
           0.6114251017570496,
           0.6152058839797974,
           0.6381919384002686,
           0.6252536773681641,
           0.4390641748905182,
           0.640628457069397,
           0.5879181623458862,
           0.5821677446365356,
           0.5181348919868469,
           0.5532112121582031,
           0.508699357509613,
           0.47124433517456055,
           0.44797900319099426,
           0.49508506059646606,
           0.45512476563453674,
           0.6039078235626221,
           0.46569550037384033,
           0.33801472187042236,
           0.2667122185230255,
           0.4047369956970215,
           0.4838382601737976,
           0.41943979263305664,
           0.46649497747421265
          ],
          [
           0.5715941786766052,
           0.6991298198699951,
           1.000000238418579,
           0.6459940671920776,
           0.6576371192932129,
           0.650191068649292,
           0.771983802318573,
           0.5608469247817993,
           0.6385878324508667,
           0.5666214823722839,
           0.4862227439880371,
           0.4497101604938507,
           0.49731189012527466,
           0.4170222282409668,
           0.41366368532180786,
           0.3983801007270813,
           0.3442274332046509,
           0.544965922832489,
           0.558053195476532,
           0.43515199422836304,
           0.38398128747940063,
           0.27566206455230713,
           0.3967639207839966,
           0.5114507079124451,
           0.34075286984443665,
           0.4617530107498169
          ],
          [
           0.6931968927383423,
           0.6114251017570496,
           0.6459940671920776,
           0.9999998211860657,
           0.686262845993042,
           0.47738224267959595,
           0.780433177947998,
           0.5145260691642761,
           0.6231201887130737,
           0.7465945482254028,
           0.6713283658027649,
           0.5460334420204163,
           0.6822092533111572,
           0.45748475193977356,
           0.4685829281806946,
           0.48658686876296997,
           0.516462504863739,
           0.6171451807022095,
           0.6412022113800049,
           0.5559736490249634,
           0.5966290831565857,
           0.3804190158843994,
           0.5499625205993652,
           0.6709860563278198,
           0.5211927890777588,
           0.6378928422927856
          ],
          [
           0.6675300598144531,
           0.6152058839797974,
           0.6576371192932129,
           0.686262845993042,
           0.9999998807907104,
           0.5105990767478943,
           0.696031928062439,
           0.697174072265625,
           0.6478651762008667,
           0.5937776565551758,
           0.6080379486083984,
           0.4857814311981201,
           0.6039283275604248,
           0.4549933075904846,
           0.3374435603618622,
           0.4719359278678894,
           0.42479175329208374,
           0.5990153551101685,
           0.5964818000793457,
           0.5055755376815796,
           0.49493199586868286,
           0.39327532052993774,
           0.5189589262008667,
           0.6755322217941284,
           0.4450174570083618,
           0.5522657036781311
          ],
          [
           0.4437870383262634,
           0.6381919384002686,
           0.650191068649292,
           0.47738224267959595,
           0.5105990767478943,
           0.9999998807907104,
           0.5543493032455444,
           0.42067837715148926,
           0.5427803993225098,
           0.5479545593261719,
           0.42928504943847656,
           0.4304857850074768,
           0.4171373248100281,
           0.44451630115509033,
           0.42069146037101746,
           0.4619995951652527,
           0.3513195216655731,
           0.3552669286727905,
           0.39474940299987793,
           0.3282442092895508,
           0.3320242166519165,
           0.24428710341453552,
           0.32842642068862915,
           0.46493369340896606,
           0.3058272898197174,
           0.3441094756126404
          ],
          [
           0.6083564162254333,
           0.6252536773681641,
           0.771983802318573,
           0.780433177947998,
           0.696031928062439,
           0.5543493032455444,
           1,
           0.5879944562911987,
           0.6033602356910706,
           0.6440398693084717,
           0.510629415512085,
           0.4232358932495117,
           0.5049790143966675,
           0.3962688446044922,
           0.36058714985847473,
           0.39545589685440063,
           0.3357959985733032,
           0.5322952270507812,
           0.5415793657302856,
           0.415391743183136,
           0.5802703499794006,
           0.41561251878738403,
           0.47797703742980957,
           0.6528199911117554,
           0.4175843596458435,
           0.635684609413147
          ],
          [
           0.46657320857048035,
           0.4390641748905182,
           0.5608469247817993,
           0.5145260691642761,
           0.697174072265625,
           0.42067837715148926,
           0.5879944562911987,
           0.9999997615814209,
           0.47978419065475464,
           0.44559040665626526,
           0.41854172945022583,
           0.3093886971473694,
           0.39531445503234863,
           0.23250937461853027,
           0.22192221879959106,
           0.3003498315811157,
           0.25487709045410156,
           0.4295954704284668,
           0.43718308210372925,
           0.3493177890777588,
           0.38087090849876404,
           0.26846402883529663,
           0.37347203493118286,
           0.561493992805481,
           0.3141881227493286,
           0.4094129204750061
          ],
          [
           0.5946568846702576,
           0.640628457069397,
           0.6385878324508667,
           0.6231201887130737,
           0.6478651762008667,
           0.5427803993225098,
           0.6033602356910706,
           0.47978419065475464,
           1,
           0.5860964059829712,
           0.45982635021209717,
           0.4519890546798706,
           0.500418484210968,
           0.39790236949920654,
           0.36151859164237976,
           0.3698749542236328,
           0.36468538641929626,
           0.4373829662799835,
           0.5007544755935669,
           0.44985437393188477,
           0.27509891986846924,
           0.16924208402633667,
           0.3222922384738922,
           0.4365480840206146,
           0.29131805896759033,
           0.39036720991134644
          ],
          [
           0.5378581881523132,
           0.5879181623458862,
           0.5666214823722839,
           0.7465945482254028,
           0.5937776565551758,
           0.5479545593261719,
           0.6440398693084717,
           0.44559040665626526,
           0.5860964059829712,
           0.9999998807907104,
           0.5824702978134155,
           0.4585697650909424,
           0.5476303696632385,
           0.3983052968978882,
           0.3348881006240845,
           0.41399693489074707,
           0.40866464376449585,
           0.4714978039264679,
           0.4912734031677246,
           0.4361553192138672,
           0.4094882309436798,
           0.2447648048400879,
           0.4226060211658478,
           0.4727293848991394,
           0.4334768056869507,
           0.5066907405853271
          ],
          [
           0.5631364583969116,
           0.5821677446365356,
           0.4862227439880371,
           0.6713283658027649,
           0.6080379486083984,
           0.42928504943847656,
           0.510629415512085,
           0.41854172945022583,
           0.45982635021209717,
           0.5824702978134155,
           1,
           0.7564111948013306,
           0.7805377244949341,
           0.4643014073371887,
           0.4333406686782837,
           0.6461532115936279,
           0.6636427044868469,
           0.582213819026947,
           0.5964301824569702,
           0.5089958906173706,
           0.5501766204833984,
           0.37222909927368164,
           0.6777382493019104,
           0.5685639977455139,
           0.5859630107879639,
           0.7137078046798706
          ],
          [
           0.4651836156845093,
           0.5181348919868469,
           0.4497101604938507,
           0.5460334420204163,
           0.4857814311981201,
           0.4304857850074768,
           0.4232358932495117,
           0.3093886971473694,
           0.4519890546798706,
           0.4585697650909424,
           0.7564111948013306,
           1,
           0.6290007829666138,
           0.4767587184906006,
           0.44289982318878174,
           0.6172136068344116,
           0.5814843773841858,
           0.4456295967102051,
           0.4735584259033203,
           0.43736761808395386,
           0.44349735975265503,
           0.3362041711807251,
           0.5751730799674988,
           0.47303295135498047,
           0.5627163052558899,
           0.6455289125442505
          ],
          [
           0.6012481451034546,
           0.5532112121582031,
           0.49731189012527466,
           0.6822092533111572,
           0.6039283275604248,
           0.4171373248100281,
           0.5049790143966675,
           0.39531445503234863,
           0.500418484210968,
           0.5476303696632385,
           0.7805377244949341,
           0.6290007829666138,
           0.9999998807907104,
           0.5395041704177856,
           0.5057162642478943,
           0.5351212024688721,
           0.5871831178665161,
           0.6227163076400757,
           0.6006220579147339,
           0.525467038154602,
           0.5802284479141235,
           0.3732832372188568,
           0.5695801973342896,
           0.5555280447006226,
           0.5374177694320679,
           0.605279803276062
          ],
          [
           0.5024974346160889,
           0.508699357509613,
           0.4170222282409668,
           0.45748475193977356,
           0.4549933075904846,
           0.44451630115509033,
           0.3962688446044922,
           0.23250937461853027,
           0.39790236949920654,
           0.3983052968978882,
           0.4643014073371887,
           0.4767587184906006,
           0.5395041704177856,
           0.9999997019767761,
           0.5594378709793091,
           0.5522028207778931,
           0.6090981960296631,
           0.35243910551071167,
           0.3658818006515503,
           0.4230860471725464,
           0.35736194252967834,
           0.5000770092010498,
           0.40575897693634033,
           0.4825115203857422,
           0.4140383005142212,
           0.37749573588371277
          ],
          [
           0.35475993156433105,
           0.47124433517456055,
           0.41366368532180786,
           0.4685829281806946,
           0.3374435603618622,
           0.42069146037101746,
           0.36058714985847473,
           0.22192221879959106,
           0.36151859164237976,
           0.3348881006240845,
           0.4333406686782837,
           0.44289982318878174,
           0.5057162642478943,
           0.5594378709793091,
           0.9999998807907104,
           0.5986950993537903,
           0.5291504859924316,
           0.37281689047813416,
           0.3852474093437195,
           0.3428966701030731,
           0.35691332817077637,
           0.2662483751773834,
           0.2970280647277832,
           0.5653347969055176,
           0.3275088369846344,
           0.32447385787963867
          ],
          [
           0.4236050844192505,
           0.44797900319099426,
           0.3983801007270813,
           0.48658686876296997,
           0.4719359278678894,
           0.4619995951652527,
           0.39545589685440063,
           0.3003498315811157,
           0.3698749542236328,
           0.41399693489074707,
           0.6461532115936279,
           0.6172136068344116,
           0.5351212024688721,
           0.5522028207778931,
           0.5986950993537903,
           0.9999997615814209,
           0.5155583620071411,
           0.3138464689254761,
           0.2627010643482208,
           0.28082001209259033,
           0.4495698809623718,
           0.4096411466598511,
           0.5127537250518799,
           0.5517317056655884,
           0.5182416439056396,
           0.48629647493362427
          ],
          [
           0.44981086254119873,
           0.49508506059646606,
           0.3442274332046509,
           0.516462504863739,
           0.42479175329208374,
           0.3513195216655731,
           0.3357959985733032,
           0.25487709045410156,
           0.36468538641929626,
           0.40866464376449585,
           0.6636427044868469,
           0.5814843773841858,
           0.5871831178665161,
           0.6090981960296631,
           0.5291504859924316,
           0.5155583620071411,
           0.9999997615814209,
           0.41240423917770386,
           0.43530917167663574,
           0.4426461458206177,
           0.3966211676597595,
           0.4147188663482666,
           0.46769076585769653,
           0.431454598903656,
           0.47682374715805054,
           0.46594351530075073
          ],
          [
           0.46911296248435974,
           0.45512476563453674,
           0.544965922832489,
           0.6171451807022095,
           0.5990153551101685,
           0.3552669286727905,
           0.5322952270507812,
           0.4295954704284668,
           0.4373829662799835,
           0.4714978039264679,
           0.582213819026947,
           0.4456295967102051,
           0.6227163076400757,
           0.35243910551071167,
           0.37281689047813416,
           0.3138464689254761,
           0.41240423917770386,
           0.9999998807907104,
           0.7250499129295349,
           0.6173340082168579,
           0.6300283074378967,
           0.3249317407608032,
           0.423257052898407,
           0.6140676140785217,
           0.38301384449005127,
           0.4322691261768341
          ],
          [
           0.4991764724254608,
           0.6039078235626221,
           0.558053195476532,
           0.6412022113800049,
           0.5964818000793457,
           0.39474940299987793,
           0.5415793657302856,
           0.43718308210372925,
           0.5007544755935669,
           0.4912734031677246,
           0.5964301824569702,
           0.4735584259033203,
           0.6006220579147339,
           0.3658818006515503,
           0.3852474093437195,
           0.2627010643482208,
           0.43530917167663574,
           0.7250499129295349,
           1.0000001192092896,
           0.6786977052688599,
           0.41553810238838196,
           0.19779932498931885,
           0.39634090662002563,
           0.514663815498352,
           0.31693583726882935,
           0.42439767718315125
          ],
          [
           0.44865334033966064,
           0.46569550037384033,
           0.43515199422836304,
           0.5559736490249634,
           0.5055755376815796,
           0.3282442092895508,
           0.415391743183136,
           0.3493177890777588,
           0.44985437393188477,
           0.4361553192138672,
           0.5089958906173706,
           0.43736761808395386,
           0.525467038154602,
           0.4230860471725464,
           0.3428966701030731,
           0.28082001209259033,
           0.4426461458206177,
           0.6173340082168579,
           0.6786977052688599,
           1,
           0.3457740545272827,
           0.17884522676467896,
           0.3240891993045807,
           0.48133623600006104,
           0.2812119424343109,
           0.33955416083335876
          ],
          [
           0.37998199462890625,
           0.33801472187042236,
           0.38398128747940063,
           0.5966290831565857,
           0.49493199586868286,
           0.3320242166519165,
           0.5802703499794006,
           0.38087090849876404,
           0.27509891986846924,
           0.4094882309436798,
           0.5501766204833984,
           0.44349735975265503,
           0.5802284479141235,
           0.35736194252967834,
           0.35691332817077637,
           0.4495698809623718,
           0.3966211676597595,
           0.6300283074378967,
           0.41553810238838196,
           0.3457740545272827,
           0.9999998807907104,
           0.7016186714172363,
           0.6107085943222046,
           0.7743608355522156,
           0.6088663339614868,
           0.6810289025306702
          ],
          [
           0.34778743982315063,
           0.2667122185230255,
           0.27566206455230713,
           0.3804190158843994,
           0.39327532052993774,
           0.24428710341453552,
           0.41561251878738403,
           0.26846402883529663,
           0.16924208402633667,
           0.2447648048400879,
           0.37222909927368164,
           0.3362041711807251,
           0.3732832372188568,
           0.5000770092010498,
           0.2662483751773834,
           0.4096411466598511,
           0.4147188663482666,
           0.3249317407608032,
           0.19779932498931885,
           0.17884522676467896,
           0.7016186714172363,
           0.9999999403953552,
           0.5643342733383179,
           0.5672963857650757,
           0.6077624559402466,
           0.5776967406272888
          ],
          [
           0.40259894728660583,
           0.4047369956970215,
           0.3967639207839966,
           0.5499625205993652,
           0.5189589262008667,
           0.32842642068862915,
           0.47797703742980957,
           0.37347203493118286,
           0.3222922384738922,
           0.4226060211658478,
           0.6777382493019104,
           0.5751730799674988,
           0.5695801973342896,
           0.40575897693634033,
           0.2970280647277832,
           0.5127537250518799,
           0.46769076585769653,
           0.423257052898407,
           0.39634090662002563,
           0.3240891993045807,
           0.6107085943222046,
           0.5643342733383179,
           1,
           0.5706641674041748,
           0.7420110702514648,
           0.8274002075195312
          ],
          [
           0.4977482557296753,
           0.4838382601737976,
           0.5114507079124451,
           0.6709860563278198,
           0.6755322217941284,
           0.46493369340896606,
           0.6528199911117554,
           0.561493992805481,
           0.4365480840206146,
           0.4727293848991394,
           0.5685639977455139,
           0.47303295135498047,
           0.5555280447006226,
           0.4825115203857422,
           0.5653347969055176,
           0.5517317056655884,
           0.431454598903656,
           0.6140676140785217,
           0.514663815498352,
           0.48133623600006104,
           0.7743608355522156,
           0.5672963857650757,
           0.5706641674041748,
           1.0000001192092896,
           0.4888508915901184,
           0.6292330026626587
          ],
          [
           0.4540121555328369,
           0.41943979263305664,
           0.34075286984443665,
           0.5211927890777588,
           0.4450174570083618,
           0.3058272898197174,
           0.4175843596458435,
           0.3141881227493286,
           0.29131805896759033,
           0.4334768056869507,
           0.5859630107879639,
           0.5627163052558899,
           0.5374177694320679,
           0.4140383005142212,
           0.3275088369846344,
           0.5182416439056396,
           0.47682374715805054,
           0.38301384449005127,
           0.31693583726882935,
           0.2812119424343109,
           0.6088663339614868,
           0.6077624559402466,
           0.7420110702514648,
           0.4888508915901184,
           0.9999999403953552,
           0.6627197265625
          ],
          [
           0.4424915909767151,
           0.46649497747421265,
           0.4617530107498169,
           0.6378928422927856,
           0.5522657036781311,
           0.3441094756126404,
           0.635684609413147,
           0.4094129204750061,
           0.39036720991134644,
           0.5066907405853271,
           0.7137078046798706,
           0.6455289125442505,
           0.605279803276062,
           0.37749573588371277,
           0.32447385787963867,
           0.48629647493362427,
           0.46594351530075073,
           0.4322691261768341,
           0.42439767718315125,
           0.33955416083335876,
           0.6810289025306702,
           0.5776967406272888,
           0.8274002075195312,
           0.6292330026626587,
           0.6627197265625,
           1
          ]
         ]
        }
       ],
       "layout": {
        "coloraxis": {
         "colorbar": {
          "title": {
           "text": "Similarity Score"
          }
         },
         "colorscale": [
          [
           0,
           "rgb(210, 251, 212)"
          ],
          [
           0.16666666666666666,
           "rgb(165, 219, 194)"
          ],
          [
           0.3333333333333333,
           "rgb(123, 188, 176)"
          ],
          [
           0.5,
           "rgb(85, 156, 158)"
          ],
          [
           0.6666666666666666,
           "rgb(58, 124, 137)"
          ],
          [
           0.8333333333333334,
           "rgb(35, 93, 114)"
          ],
          [
           1,
           "rgb(18, 63, 90)"
          ]
         ]
        },
        "height": 800,
        "hoverlabel": {
         "bgcolor": "white",
         "font": {
          "family": "Rockwell",
          "size": 16
         }
        },
        "legend": {
         "title": {
          "text": "Trend"
         }
        },
        "margin": {
         "t": 60
        },
        "showlegend": true,
        "template": {
         "data": {
          "bar": [
           {
            "error_x": {
             "color": "#2a3f5f"
            },
            "error_y": {
             "color": "#2a3f5f"
            },
            "marker": {
             "line": {
              "color": "#E5ECF6",
              "width": 0.5
             },
             "pattern": {
              "fillmode": "overlay",
              "size": 10,
              "solidity": 0.2
             }
            },
            "type": "bar"
           }
          ],
          "barpolar": [
           {
            "marker": {
             "line": {
              "color": "#E5ECF6",
              "width": 0.5
             },
             "pattern": {
              "fillmode": "overlay",
              "size": 10,
              "solidity": 0.2
             }
            },
            "type": "barpolar"
           }
          ],
          "carpet": [
           {
            "aaxis": {
             "endlinecolor": "#2a3f5f",
             "gridcolor": "white",
             "linecolor": "white",
             "minorgridcolor": "white",
             "startlinecolor": "#2a3f5f"
            },
            "baxis": {
             "endlinecolor": "#2a3f5f",
             "gridcolor": "white",
             "linecolor": "white",
             "minorgridcolor": "white",
             "startlinecolor": "#2a3f5f"
            },
            "type": "carpet"
           }
          ],
          "choropleth": [
           {
            "colorbar": {
             "outlinewidth": 0,
             "ticks": ""
            },
            "type": "choropleth"
           }
          ],
          "contour": [
           {
            "colorbar": {
             "outlinewidth": 0,
             "ticks": ""
            },
            "colorscale": [
             [
              0,
              "#0d0887"
             ],
             [
              0.1111111111111111,
              "#46039f"
             ],
             [
              0.2222222222222222,
              "#7201a8"
             ],
             [
              0.3333333333333333,
              "#9c179e"
             ],
             [
              0.4444444444444444,
              "#bd3786"
             ],
             [
              0.5555555555555556,
              "#d8576b"
             ],
             [
              0.6666666666666666,
              "#ed7953"
             ],
             [
              0.7777777777777778,
              "#fb9f3a"
             ],
             [
              0.8888888888888888,
              "#fdca26"
             ],
             [
              1,
              "#f0f921"
             ]
            ],
            "type": "contour"
           }
          ],
          "contourcarpet": [
           {
            "colorbar": {
             "outlinewidth": 0,
             "ticks": ""
            },
            "type": "contourcarpet"
           }
          ],
          "heatmap": [
           {
            "colorbar": {
             "outlinewidth": 0,
             "ticks": ""
            },
            "colorscale": [
             [
              0,
              "#0d0887"
             ],
             [
              0.1111111111111111,
              "#46039f"
             ],
             [
              0.2222222222222222,
              "#7201a8"
             ],
             [
              0.3333333333333333,
              "#9c179e"
             ],
             [
              0.4444444444444444,
              "#bd3786"
             ],
             [
              0.5555555555555556,
              "#d8576b"
             ],
             [
              0.6666666666666666,
              "#ed7953"
             ],
             [
              0.7777777777777778,
              "#fb9f3a"
             ],
             [
              0.8888888888888888,
              "#fdca26"
             ],
             [
              1,
              "#f0f921"
             ]
            ],
            "type": "heatmap"
           }
          ],
          "heatmapgl": [
           {
            "colorbar": {
             "outlinewidth": 0,
             "ticks": ""
            },
            "colorscale": [
             [
              0,
              "#0d0887"
             ],
             [
              0.1111111111111111,
              "#46039f"
             ],
             [
              0.2222222222222222,
              "#7201a8"
             ],
             [
              0.3333333333333333,
              "#9c179e"
             ],
             [
              0.4444444444444444,
              "#bd3786"
             ],
             [
              0.5555555555555556,
              "#d8576b"
             ],
             [
              0.6666666666666666,
              "#ed7953"
             ],
             [
              0.7777777777777778,
              "#fb9f3a"
             ],
             [
              0.8888888888888888,
              "#fdca26"
             ],
             [
              1,
              "#f0f921"
             ]
            ],
            "type": "heatmapgl"
           }
          ],
          "histogram": [
           {
            "marker": {
             "pattern": {
              "fillmode": "overlay",
              "size": 10,
              "solidity": 0.2
             }
            },
            "type": "histogram"
           }
          ],
          "histogram2d": [
           {
            "colorbar": {
             "outlinewidth": 0,
             "ticks": ""
            },
            "colorscale": [
             [
              0,
              "#0d0887"
             ],
             [
              0.1111111111111111,
              "#46039f"
             ],
             [
              0.2222222222222222,
              "#7201a8"
             ],
             [
              0.3333333333333333,
              "#9c179e"
             ],
             [
              0.4444444444444444,
              "#bd3786"
             ],
             [
              0.5555555555555556,
              "#d8576b"
             ],
             [
              0.6666666666666666,
              "#ed7953"
             ],
             [
              0.7777777777777778,
              "#fb9f3a"
             ],
             [
              0.8888888888888888,
              "#fdca26"
             ],
             [
              1,
              "#f0f921"
             ]
            ],
            "type": "histogram2d"
           }
          ],
          "histogram2dcontour": [
           {
            "colorbar": {
             "outlinewidth": 0,
             "ticks": ""
            },
            "colorscale": [
             [
              0,
              "#0d0887"
             ],
             [
              0.1111111111111111,
              "#46039f"
             ],
             [
              0.2222222222222222,
              "#7201a8"
             ],
             [
              0.3333333333333333,
              "#9c179e"
             ],
             [
              0.4444444444444444,
              "#bd3786"
             ],
             [
              0.5555555555555556,
              "#d8576b"
             ],
             [
              0.6666666666666666,
              "#ed7953"
             ],
             [
              0.7777777777777778,
              "#fb9f3a"
             ],
             [
              0.8888888888888888,
              "#fdca26"
             ],
             [
              1,
              "#f0f921"
             ]
            ],
            "type": "histogram2dcontour"
           }
          ],
          "mesh3d": [
           {
            "colorbar": {
             "outlinewidth": 0,
             "ticks": ""
            },
            "type": "mesh3d"
           }
          ],
          "parcoords": [
           {
            "line": {
             "colorbar": {
              "outlinewidth": 0,
              "ticks": ""
             }
            },
            "type": "parcoords"
           }
          ],
          "pie": [
           {
            "automargin": true,
            "type": "pie"
           }
          ],
          "scatter": [
           {
            "fillpattern": {
             "fillmode": "overlay",
             "size": 10,
             "solidity": 0.2
            },
            "type": "scatter"
           }
          ],
          "scatter3d": [
           {
            "line": {
             "colorbar": {
              "outlinewidth": 0,
              "ticks": ""
             }
            },
            "marker": {
             "colorbar": {
              "outlinewidth": 0,
              "ticks": ""
             }
            },
            "type": "scatter3d"
           }
          ],
          "scattercarpet": [
           {
            "marker": {
             "colorbar": {
              "outlinewidth": 0,
              "ticks": ""
             }
            },
            "type": "scattercarpet"
           }
          ],
          "scattergeo": [
           {
            "marker": {
             "colorbar": {
              "outlinewidth": 0,
              "ticks": ""
             }
            },
            "type": "scattergeo"
           }
          ],
          "scattergl": [
           {
            "marker": {
             "colorbar": {
              "outlinewidth": 0,
              "ticks": ""
             }
            },
            "type": "scattergl"
           }
          ],
          "scattermapbox": [
           {
            "marker": {
             "colorbar": {
              "outlinewidth": 0,
              "ticks": ""
             }
            },
            "type": "scattermapbox"
           }
          ],
          "scatterpolar": [
           {
            "marker": {
             "colorbar": {
              "outlinewidth": 0,
              "ticks": ""
             }
            },
            "type": "scatterpolar"
           }
          ],
          "scatterpolargl": [
           {
            "marker": {
             "colorbar": {
              "outlinewidth": 0,
              "ticks": ""
             }
            },
            "type": "scatterpolargl"
           }
          ],
          "scatterternary": [
           {
            "marker": {
             "colorbar": {
              "outlinewidth": 0,
              "ticks": ""
             }
            },
            "type": "scatterternary"
           }
          ],
          "surface": [
           {
            "colorbar": {
             "outlinewidth": 0,
             "ticks": ""
            },
            "colorscale": [
             [
              0,
              "#0d0887"
             ],
             [
              0.1111111111111111,
              "#46039f"
             ],
             [
              0.2222222222222222,
              "#7201a8"
             ],
             [
              0.3333333333333333,
              "#9c179e"
             ],
             [
              0.4444444444444444,
              "#bd3786"
             ],
             [
              0.5555555555555556,
              "#d8576b"
             ],
             [
              0.6666666666666666,
              "#ed7953"
             ],
             [
              0.7777777777777778,
              "#fb9f3a"
             ],
             [
              0.8888888888888888,
              "#fdca26"
             ],
             [
              1,
              "#f0f921"
             ]
            ],
            "type": "surface"
           }
          ],
          "table": [
           {
            "cells": {
             "fill": {
              "color": "#EBF0F8"
             },
             "line": {
              "color": "white"
             }
            },
            "header": {
             "fill": {
              "color": "#C8D4E3"
             },
             "line": {
              "color": "white"
             }
            },
            "type": "table"
           }
          ]
         },
         "layout": {
          "annotationdefaults": {
           "arrowcolor": "#2a3f5f",
           "arrowhead": 0,
           "arrowwidth": 1
          },
          "autotypenumbers": "strict",
          "coloraxis": {
           "colorbar": {
            "outlinewidth": 0,
            "ticks": ""
           }
          },
          "colorscale": {
           "diverging": [
            [
             0,
             "#8e0152"
            ],
            [
             0.1,
             "#c51b7d"
            ],
            [
             0.2,
             "#de77ae"
            ],
            [
             0.3,
             "#f1b6da"
            ],
            [
             0.4,
             "#fde0ef"
            ],
            [
             0.5,
             "#f7f7f7"
            ],
            [
             0.6,
             "#e6f5d0"
            ],
            [
             0.7,
             "#b8e186"
            ],
            [
             0.8,
             "#7fbc41"
            ],
            [
             0.9,
             "#4d9221"
            ],
            [
             1,
             "#276419"
            ]
           ],
           "sequential": [
            [
             0,
             "#0d0887"
            ],
            [
             0.1111111111111111,
             "#46039f"
            ],
            [
             0.2222222222222222,
             "#7201a8"
            ],
            [
             0.3333333333333333,
             "#9c179e"
            ],
            [
             0.4444444444444444,
             "#bd3786"
            ],
            [
             0.5555555555555556,
             "#d8576b"
            ],
            [
             0.6666666666666666,
             "#ed7953"
            ],
            [
             0.7777777777777778,
             "#fb9f3a"
            ],
            [
             0.8888888888888888,
             "#fdca26"
            ],
            [
             1,
             "#f0f921"
            ]
           ],
           "sequentialminus": [
            [
             0,
             "#0d0887"
            ],
            [
             0.1111111111111111,
             "#46039f"
            ],
            [
             0.2222222222222222,
             "#7201a8"
            ],
            [
             0.3333333333333333,
             "#9c179e"
            ],
            [
             0.4444444444444444,
             "#bd3786"
            ],
            [
             0.5555555555555556,
             "#d8576b"
            ],
            [
             0.6666666666666666,
             "#ed7953"
            ],
            [
             0.7777777777777778,
             "#fb9f3a"
            ],
            [
             0.8888888888888888,
             "#fdca26"
            ],
            [
             1,
             "#f0f921"
            ]
           ]
          },
          "colorway": [
           "#636efa",
           "#EF553B",
           "#00cc96",
           "#ab63fa",
           "#FFA15A",
           "#19d3f3",
           "#FF6692",
           "#B6E880",
           "#FF97FF",
           "#FECB52"
          ],
          "font": {
           "color": "#2a3f5f"
          },
          "geo": {
           "bgcolor": "white",
           "lakecolor": "white",
           "landcolor": "#E5ECF6",
           "showlakes": true,
           "showland": true,
           "subunitcolor": "white"
          },
          "hoverlabel": {
           "align": "left"
          },
          "hovermode": "closest",
          "mapbox": {
           "style": "light"
          },
          "paper_bgcolor": "white",
          "plot_bgcolor": "#E5ECF6",
          "polar": {
           "angularaxis": {
            "gridcolor": "white",
            "linecolor": "white",
            "ticks": ""
           },
           "bgcolor": "#E5ECF6",
           "radialaxis": {
            "gridcolor": "white",
            "linecolor": "white",
            "ticks": ""
           }
          },
          "scene": {
           "xaxis": {
            "backgroundcolor": "#E5ECF6",
            "gridcolor": "white",
            "gridwidth": 2,
            "linecolor": "white",
            "showbackground": true,
            "ticks": "",
            "zerolinecolor": "white"
           },
           "yaxis": {
            "backgroundcolor": "#E5ECF6",
            "gridcolor": "white",
            "gridwidth": 2,
            "linecolor": "white",
            "showbackground": true,
            "ticks": "",
            "zerolinecolor": "white"
           },
           "zaxis": {
            "backgroundcolor": "#E5ECF6",
            "gridcolor": "white",
            "gridwidth": 2,
            "linecolor": "white",
            "showbackground": true,
            "ticks": "",
            "zerolinecolor": "white"
           }
          },
          "shapedefaults": {
           "line": {
            "color": "#2a3f5f"
           }
          },
          "ternary": {
           "aaxis": {
            "gridcolor": "white",
            "linecolor": "white",
            "ticks": ""
           },
           "baxis": {
            "gridcolor": "white",
            "linecolor": "white",
            "ticks": ""
           },
           "bgcolor": "#E5ECF6",
           "caxis": {
            "gridcolor": "white",
            "linecolor": "white",
            "ticks": ""
           }
          },
          "title": {
           "x": 0.05
          },
          "xaxis": {
           "automargin": true,
           "gridcolor": "white",
           "linecolor": "white",
           "ticks": "",
           "title": {
            "standoff": 15
           },
           "zerolinecolor": "white",
           "zerolinewidth": 2
          },
          "yaxis": {
           "automargin": true,
           "gridcolor": "white",
           "linecolor": "white",
           "ticks": "",
           "title": {
            "standoff": 15
           },
           "zerolinecolor": "white",
           "zerolinewidth": 2
          }
         }
        },
        "title": {
         "font": {
          "color": "Black",
          "size": 22
         },
         "text": "Cosine Similarity Matrix of News Topics",
         "x": 0.55,
         "xanchor": "center",
         "y": 0.95,
         "yanchor": "top"
        },
        "width": 800,
        "xaxis": {
         "anchor": "y",
         "constrain": "domain",
         "domain": [
          0,
          1
         ],
         "scaleanchor": "y"
        },
        "yaxis": {
         "anchor": "x",
         "autorange": "reversed",
         "constrain": "domain",
         "domain": [
          0,
          1
         ]
        }
       }
      }
     },
     "metadata": {},
     "output_type": "display_data"
    }
   ],
   "source": [
    "fig = news_model.visualize_heatmap(n_clusters=5, custom_labels=True)\n",
    "fig.update_layout(\n",
    "    title_text='Cosine Similarity Matrix of News Topics',\n",
    "    coloraxis=dict(colorscale='Darkmint')  \n",
    ")\n",
    "fig.show()"
   ]
  },
  {
   "cell_type": "code",
   "execution_count": 12,
   "metadata": {},
   "outputs": [],
   "source": [
    "# save plotly figure\n",
    "fig.write_html(\"news-similarity.html\")"
   ]
  },
  {
   "cell_type": "markdown",
   "metadata": {},
   "source": [
    "There is a dark square at the bottom right showing a cluster of similar topics. Let's visualise these clearer."
   ]
  },
  {
   "cell_type": "code",
   "execution_count": 11,
   "metadata": {},
   "outputs": [
    {
     "data": {
      "application/vnd.plotly.v1+json": {
       "config": {
        "plotlyServerURL": "https://plot.ly"
       },
       "data": [
        {
         "coloraxis": "coloraxis",
         "hovertemplate": "x: %{x}<br>y: %{y}<br>Similarity Score: %{z}<extra></extra>",
         "name": "0",
         "textfont": {
          "size": 10
         },
         "texttemplate": "%{z:.2f}",
         "type": "heatmap",
         "x": [
          "1: Rwanda Court Ruling",
          "4: Braverman Immigration Policy",
          "6: Rishi Sunak Politics",
          "7: Illegal Migration Legislation",
          "12: EU Migration Deal",
          "16: Gary Lineker Controversy",
          "22: Stopping Migrant Boats",
          "23: Emmanuel Macron Politics",
          "25: European Human Rights",
          "26: Archbishop on Migration",
          "2: Asylum Seekers Accommodation",
          "9: RAF Scampton Asylum",
          "18: Asylum Claims Backlog",
          "3: Taliban Convictions",
          "13: UK Police Crimes",
          "14: Protests at Hotels",
          "19: Missing Unaccompanied Children",
          "5: Migration Record Figures",
          "17: Foreign Worker Visas",
          "24: Foreign University Students",
          "8: Migrants Crossing",
          "11: Bibby Stockholm Barge",
          "15: Migrant Smuggling Gangs",
          "20: Legionella on Barge",
          "21: Portland Asylum Barge",
          "10: Migrant Boat Tragedies"
         ],
         "xaxis": "x",
         "y": [
          "1: Rwanda Court Ruling",
          "4: Braverman Immigration Policy",
          "6: Rishi Sunak Politics",
          "7: Illegal Migration Legislation",
          "12: EU Migration Deal",
          "16: Gary Lineker Controversy",
          "22: Stopping Migrant Boats",
          "23: Emmanuel Macron Politics",
          "25: European Human Rights",
          "26: Archbishop on Migration",
          "2: Asylum Seekers Accommodation",
          "9: RAF Scampton Asylum",
          "18: Asylum Claims Backlog",
          "3: Taliban Convictions",
          "13: UK Police Crimes",
          "14: Protests at Hotels",
          "19: Missing Unaccompanied Children",
          "5: Migration Record Figures",
          "17: Foreign Worker Visas",
          "24: Foreign University Students",
          "8: Migrants Crossing",
          "11: Bibby Stockholm Barge",
          "15: Migrant Smuggling Gangs",
          "20: Legionella on Barge",
          "21: Portland Asylum Barge",
          "10: Migrant Boat Tragedies"
         ],
         "yaxis": "y",
         "z": [
          [
           1.000000238418579,
           0.6442880630493164,
           0.5715941786766052,
           0.6931968927383423,
           0.6675300598144531,
           0.4437870383262634,
           0.6083564162254333,
           0.46657320857048035,
           0.5946568846702576,
           0.5378581881523132,
           0.5631364583969116,
           0.4651836156845093,
           0.6012481451034546,
           0.5024974346160889,
           0.35475993156433105,
           0.4236050844192505,
           0.44981086254119873,
           0.46911296248435974,
           0.4991764724254608,
           0.44865334033966064,
           0.37998199462890625,
           0.40259894728660583,
           0.4977482557296753,
           0.4540121555328369,
           0.4424915909767151,
           0.34778743982315063
          ],
          [
           0.6442880630493164,
           0.9999997615814209,
           0.6991298198699951,
           0.6114251017570496,
           0.6152058839797974,
           0.6381919384002686,
           0.6252536773681641,
           0.4390641748905182,
           0.640628457069397,
           0.5879181623458862,
           0.5821677446365356,
           0.5181348919868469,
           0.5532112121582031,
           0.508699357509613,
           0.47124433517456055,
           0.44797900319099426,
           0.49508506059646606,
           0.45512476563453674,
           0.6039078235626221,
           0.46569550037384033,
           0.33801472187042236,
           0.4047369956970215,
           0.4838382601737976,
           0.41943979263305664,
           0.46649497747421265,
           0.2667122185230255
          ],
          [
           0.5715941786766052,
           0.6991298198699951,
           1.000000238418579,
           0.6459940671920776,
           0.6576371192932129,
           0.650191068649292,
           0.771983802318573,
           0.5608469247817993,
           0.6385878324508667,
           0.5666214823722839,
           0.4862227439880371,
           0.4497101604938507,
           0.49731189012527466,
           0.4170222282409668,
           0.41366368532180786,
           0.3983801007270813,
           0.3442274332046509,
           0.544965922832489,
           0.558053195476532,
           0.43515199422836304,
           0.38398128747940063,
           0.3967639207839966,
           0.5114507079124451,
           0.34075286984443665,
           0.4617530107498169,
           0.27566206455230713
          ],
          [
           0.6931968927383423,
           0.6114251017570496,
           0.6459940671920776,
           0.9999998211860657,
           0.686262845993042,
           0.47738224267959595,
           0.780433177947998,
           0.5145260691642761,
           0.6231201887130737,
           0.7465945482254028,
           0.6713283658027649,
           0.5460334420204163,
           0.6822092533111572,
           0.45748475193977356,
           0.4685829281806946,
           0.48658686876296997,
           0.516462504863739,
           0.6171451807022095,
           0.6412022113800049,
           0.5559736490249634,
           0.5966290831565857,
           0.5499625205993652,
           0.6709860563278198,
           0.5211927890777588,
           0.6378928422927856,
           0.3804190158843994
          ],
          [
           0.6675300598144531,
           0.6152058839797974,
           0.6576371192932129,
           0.686262845993042,
           0.9999998807907104,
           0.5105990767478943,
           0.696031928062439,
           0.697174072265625,
           0.6478651762008667,
           0.5937776565551758,
           0.6080379486083984,
           0.4857814311981201,
           0.6039283275604248,
           0.4549933075904846,
           0.3374435603618622,
           0.4719359278678894,
           0.42479175329208374,
           0.5990153551101685,
           0.5964818000793457,
           0.5055755376815796,
           0.49493199586868286,
           0.5189589262008667,
           0.6755322217941284,
           0.4450174570083618,
           0.5522657036781311,
           0.39327532052993774
          ],
          [
           0.4437870383262634,
           0.6381919384002686,
           0.650191068649292,
           0.47738224267959595,
           0.5105990767478943,
           0.9999998807907104,
           0.5543493032455444,
           0.42067837715148926,
           0.5427803993225098,
           0.5479545593261719,
           0.42928504943847656,
           0.4304857850074768,
           0.4171373248100281,
           0.44451630115509033,
           0.42069146037101746,
           0.4619995951652527,
           0.3513195216655731,
           0.3552669286727905,
           0.39474940299987793,
           0.3282442092895508,
           0.3320242166519165,
           0.32842642068862915,
           0.46493369340896606,
           0.3058272898197174,
           0.3441094756126404,
           0.24428710341453552
          ],
          [
           0.6083564162254333,
           0.6252536773681641,
           0.771983802318573,
           0.780433177947998,
           0.696031928062439,
           0.5543493032455444,
           1,
           0.5879944562911987,
           0.6033602356910706,
           0.6440398693084717,
           0.510629415512085,
           0.4232358932495117,
           0.5049790143966675,
           0.3962688446044922,
           0.36058714985847473,
           0.39545589685440063,
           0.3357959985733032,
           0.5322952270507812,
           0.5415793657302856,
           0.415391743183136,
           0.5802703499794006,
           0.47797703742980957,
           0.6528199911117554,
           0.4175843596458435,
           0.635684609413147,
           0.41561251878738403
          ],
          [
           0.46657320857048035,
           0.4390641748905182,
           0.5608469247817993,
           0.5145260691642761,
           0.697174072265625,
           0.42067837715148926,
           0.5879944562911987,
           0.9999997615814209,
           0.47978419065475464,
           0.44559040665626526,
           0.41854172945022583,
           0.3093886971473694,
           0.39531445503234863,
           0.23250937461853027,
           0.22192221879959106,
           0.3003498315811157,
           0.25487709045410156,
           0.4295954704284668,
           0.43718308210372925,
           0.3493177890777588,
           0.38087090849876404,
           0.37347203493118286,
           0.561493992805481,
           0.3141881227493286,
           0.4094129204750061,
           0.26846402883529663
          ],
          [
           0.5946568846702576,
           0.640628457069397,
           0.6385878324508667,
           0.6231201887130737,
           0.6478651762008667,
           0.5427803993225098,
           0.6033602356910706,
           0.47978419065475464,
           1,
           0.5860964059829712,
           0.45982635021209717,
           0.4519890546798706,
           0.500418484210968,
           0.39790236949920654,
           0.36151859164237976,
           0.3698749542236328,
           0.36468538641929626,
           0.4373829662799835,
           0.5007544755935669,
           0.44985437393188477,
           0.27509891986846924,
           0.3222922384738922,
           0.4365480840206146,
           0.29131805896759033,
           0.39036720991134644,
           0.16924208402633667
          ],
          [
           0.5378581881523132,
           0.5879181623458862,
           0.5666214823722839,
           0.7465945482254028,
           0.5937776565551758,
           0.5479545593261719,
           0.6440398693084717,
           0.44559040665626526,
           0.5860964059829712,
           0.9999998807907104,
           0.5824702978134155,
           0.4585697650909424,
           0.5476303696632385,
           0.3983052968978882,
           0.3348881006240845,
           0.41399693489074707,
           0.40866464376449585,
           0.4714978039264679,
           0.4912734031677246,
           0.4361553192138672,
           0.4094882309436798,
           0.4226060211658478,
           0.4727293848991394,
           0.4334768056869507,
           0.5066907405853271,
           0.2447648048400879
          ],
          [
           0.5631364583969116,
           0.5821677446365356,
           0.4862227439880371,
           0.6713283658027649,
           0.6080379486083984,
           0.42928504943847656,
           0.510629415512085,
           0.41854172945022583,
           0.45982635021209717,
           0.5824702978134155,
           1,
           0.7564111948013306,
           0.7805377244949341,
           0.4643014073371887,
           0.4333406686782837,
           0.6461532115936279,
           0.6636427044868469,
           0.582213819026947,
           0.5964301824569702,
           0.5089958906173706,
           0.5501766204833984,
           0.6777382493019104,
           0.5685639977455139,
           0.5859630107879639,
           0.7137078046798706,
           0.37222909927368164
          ],
          [
           0.4651836156845093,
           0.5181348919868469,
           0.4497101604938507,
           0.5460334420204163,
           0.4857814311981201,
           0.4304857850074768,
           0.4232358932495117,
           0.3093886971473694,
           0.4519890546798706,
           0.4585697650909424,
           0.7564111948013306,
           1,
           0.6290007829666138,
           0.4767587184906006,
           0.44289982318878174,
           0.6172136068344116,
           0.5814843773841858,
           0.4456295967102051,
           0.4735584259033203,
           0.43736761808395386,
           0.44349735975265503,
           0.5751730799674988,
           0.47303295135498047,
           0.5627163052558899,
           0.6455289125442505,
           0.3362041711807251
          ],
          [
           0.6012481451034546,
           0.5532112121582031,
           0.49731189012527466,
           0.6822092533111572,
           0.6039283275604248,
           0.4171373248100281,
           0.5049790143966675,
           0.39531445503234863,
           0.500418484210968,
           0.5476303696632385,
           0.7805377244949341,
           0.6290007829666138,
           0.9999998807907104,
           0.5395041704177856,
           0.5057162642478943,
           0.5351212024688721,
           0.5871831178665161,
           0.6227163076400757,
           0.6006220579147339,
           0.525467038154602,
           0.5802284479141235,
           0.5695801973342896,
           0.5555280447006226,
           0.5374177694320679,
           0.605279803276062,
           0.3732832372188568
          ],
          [
           0.5024974346160889,
           0.508699357509613,
           0.4170222282409668,
           0.45748475193977356,
           0.4549933075904846,
           0.44451630115509033,
           0.3962688446044922,
           0.23250937461853027,
           0.39790236949920654,
           0.3983052968978882,
           0.4643014073371887,
           0.4767587184906006,
           0.5395041704177856,
           0.9999997019767761,
           0.5594378709793091,
           0.5522028207778931,
           0.6090981960296631,
           0.35243910551071167,
           0.3658818006515503,
           0.4230860471725464,
           0.35736194252967834,
           0.40575897693634033,
           0.4825115203857422,
           0.4140383005142212,
           0.37749573588371277,
           0.5000770092010498
          ],
          [
           0.35475993156433105,
           0.47124433517456055,
           0.41366368532180786,
           0.4685829281806946,
           0.3374435603618622,
           0.42069146037101746,
           0.36058714985847473,
           0.22192221879959106,
           0.36151859164237976,
           0.3348881006240845,
           0.4333406686782837,
           0.44289982318878174,
           0.5057162642478943,
           0.5594378709793091,
           0.9999998807907104,
           0.5986950993537903,
           0.5291504859924316,
           0.37281689047813416,
           0.3852474093437195,
           0.3428966701030731,
           0.35691332817077637,
           0.2970280647277832,
           0.5653347969055176,
           0.3275088369846344,
           0.32447385787963867,
           0.2662483751773834
          ],
          [
           0.4236050844192505,
           0.44797900319099426,
           0.3983801007270813,
           0.48658686876296997,
           0.4719359278678894,
           0.4619995951652527,
           0.39545589685440063,
           0.3003498315811157,
           0.3698749542236328,
           0.41399693489074707,
           0.6461532115936279,
           0.6172136068344116,
           0.5351212024688721,
           0.5522028207778931,
           0.5986950993537903,
           0.9999997615814209,
           0.5155583620071411,
           0.3138464689254761,
           0.2627010643482208,
           0.28082001209259033,
           0.4495698809623718,
           0.5127537250518799,
           0.5517317056655884,
           0.5182416439056396,
           0.48629647493362427,
           0.4096411466598511
          ],
          [
           0.44981086254119873,
           0.49508506059646606,
           0.3442274332046509,
           0.516462504863739,
           0.42479175329208374,
           0.3513195216655731,
           0.3357959985733032,
           0.25487709045410156,
           0.36468538641929626,
           0.40866464376449585,
           0.6636427044868469,
           0.5814843773841858,
           0.5871831178665161,
           0.6090981960296631,
           0.5291504859924316,
           0.5155583620071411,
           0.9999997615814209,
           0.41240423917770386,
           0.43530917167663574,
           0.4426461458206177,
           0.3966211676597595,
           0.46769076585769653,
           0.431454598903656,
           0.47682374715805054,
           0.46594351530075073,
           0.4147188663482666
          ],
          [
           0.46911296248435974,
           0.45512476563453674,
           0.544965922832489,
           0.6171451807022095,
           0.5990153551101685,
           0.3552669286727905,
           0.5322952270507812,
           0.4295954704284668,
           0.4373829662799835,
           0.4714978039264679,
           0.582213819026947,
           0.4456295967102051,
           0.6227163076400757,
           0.35243910551071167,
           0.37281689047813416,
           0.3138464689254761,
           0.41240423917770386,
           0.9999998807907104,
           0.7250499129295349,
           0.6173340082168579,
           0.6300283074378967,
           0.423257052898407,
           0.6140676140785217,
           0.38301384449005127,
           0.4322691261768341,
           0.3249317407608032
          ],
          [
           0.4991764724254608,
           0.6039078235626221,
           0.558053195476532,
           0.6412022113800049,
           0.5964818000793457,
           0.39474940299987793,
           0.5415793657302856,
           0.43718308210372925,
           0.5007544755935669,
           0.4912734031677246,
           0.5964301824569702,
           0.4735584259033203,
           0.6006220579147339,
           0.3658818006515503,
           0.3852474093437195,
           0.2627010643482208,
           0.43530917167663574,
           0.7250499129295349,
           1.0000001192092896,
           0.6786977052688599,
           0.41553810238838196,
           0.39634090662002563,
           0.514663815498352,
           0.31693583726882935,
           0.42439767718315125,
           0.19779932498931885
          ],
          [
           0.44865334033966064,
           0.46569550037384033,
           0.43515199422836304,
           0.5559736490249634,
           0.5055755376815796,
           0.3282442092895508,
           0.415391743183136,
           0.3493177890777588,
           0.44985437393188477,
           0.4361553192138672,
           0.5089958906173706,
           0.43736761808395386,
           0.525467038154602,
           0.4230860471725464,
           0.3428966701030731,
           0.28082001209259033,
           0.4426461458206177,
           0.6173340082168579,
           0.6786977052688599,
           1,
           0.3457740545272827,
           0.3240891993045807,
           0.48133623600006104,
           0.2812119424343109,
           0.33955416083335876,
           0.17884522676467896
          ],
          [
           0.37998199462890625,
           0.33801472187042236,
           0.38398128747940063,
           0.5966290831565857,
           0.49493199586868286,
           0.3320242166519165,
           0.5802703499794006,
           0.38087090849876404,
           0.27509891986846924,
           0.4094882309436798,
           0.5501766204833984,
           0.44349735975265503,
           0.5802284479141235,
           0.35736194252967834,
           0.35691332817077637,
           0.4495698809623718,
           0.3966211676597595,
           0.6300283074378967,
           0.41553810238838196,
           0.3457740545272827,
           0.9999998807907104,
           0.6107085943222046,
           0.7743608355522156,
           0.6088663339614868,
           0.6810289025306702,
           0.7016186714172363
          ],
          [
           0.40259894728660583,
           0.4047369956970215,
           0.3967639207839966,
           0.5499625205993652,
           0.5189589262008667,
           0.32842642068862915,
           0.47797703742980957,
           0.37347203493118286,
           0.3222922384738922,
           0.4226060211658478,
           0.6777382493019104,
           0.5751730799674988,
           0.5695801973342896,
           0.40575897693634033,
           0.2970280647277832,
           0.5127537250518799,
           0.46769076585769653,
           0.423257052898407,
           0.39634090662002563,
           0.3240891993045807,
           0.6107085943222046,
           1,
           0.5706641674041748,
           0.7420110702514648,
           0.8274002075195312,
           0.5643342733383179
          ],
          [
           0.4977482557296753,
           0.4838382601737976,
           0.5114507079124451,
           0.6709860563278198,
           0.6755322217941284,
           0.46493369340896606,
           0.6528199911117554,
           0.561493992805481,
           0.4365480840206146,
           0.4727293848991394,
           0.5685639977455139,
           0.47303295135498047,
           0.5555280447006226,
           0.4825115203857422,
           0.5653347969055176,
           0.5517317056655884,
           0.431454598903656,
           0.6140676140785217,
           0.514663815498352,
           0.48133623600006104,
           0.7743608355522156,
           0.5706641674041748,
           1.0000001192092896,
           0.4888508915901184,
           0.6292330026626587,
           0.5672963857650757
          ],
          [
           0.4540121555328369,
           0.41943979263305664,
           0.34075286984443665,
           0.5211927890777588,
           0.4450174570083618,
           0.3058272898197174,
           0.4175843596458435,
           0.3141881227493286,
           0.29131805896759033,
           0.4334768056869507,
           0.5859630107879639,
           0.5627163052558899,
           0.5374177694320679,
           0.4140383005142212,
           0.3275088369846344,
           0.5182416439056396,
           0.47682374715805054,
           0.38301384449005127,
           0.31693583726882935,
           0.2812119424343109,
           0.6088663339614868,
           0.7420110702514648,
           0.4888508915901184,
           0.9999999403953552,
           0.6627197265625,
           0.6077624559402466
          ],
          [
           0.4424915909767151,
           0.46649497747421265,
           0.4617530107498169,
           0.6378928422927856,
           0.5522657036781311,
           0.3441094756126404,
           0.635684609413147,
           0.4094129204750061,
           0.39036720991134644,
           0.5066907405853271,
           0.7137078046798706,
           0.6455289125442505,
           0.605279803276062,
           0.37749573588371277,
           0.32447385787963867,
           0.48629647493362427,
           0.46594351530075073,
           0.4322691261768341,
           0.42439767718315125,
           0.33955416083335876,
           0.6810289025306702,
           0.8274002075195312,
           0.6292330026626587,
           0.6627197265625,
           1,
           0.5776967406272888
          ],
          [
           0.34778743982315063,
           0.2667122185230255,
           0.27566206455230713,
           0.3804190158843994,
           0.39327532052993774,
           0.24428710341453552,
           0.41561251878738403,
           0.26846402883529663,
           0.16924208402633667,
           0.2447648048400879,
           0.37222909927368164,
           0.3362041711807251,
           0.3732832372188568,
           0.5000770092010498,
           0.2662483751773834,
           0.4096411466598511,
           0.4147188663482666,
           0.3249317407608032,
           0.19779932498931885,
           0.17884522676467896,
           0.7016186714172363,
           0.5643342733383179,
           0.5672963857650757,
           0.6077624559402466,
           0.5776967406272888,
           0.9999999403953552
          ]
         ]
        }
       ],
       "layout": {
        "coloraxis": {
         "colorbar": {
          "title": {
           "text": "Similarity Score"
          }
         },
         "colorscale": [
          [
           0,
           "rgb(210, 251, 212)"
          ],
          [
           0.16666666666666666,
           "rgb(165, 219, 194)"
          ],
          [
           0.3333333333333333,
           "rgb(123, 188, 176)"
          ],
          [
           0.5,
           "rgb(85, 156, 158)"
          ],
          [
           0.6666666666666666,
           "rgb(58, 124, 137)"
          ],
          [
           0.8333333333333334,
           "rgb(35, 93, 114)"
          ],
          [
           1,
           "rgb(18, 63, 90)"
          ]
         ],
         "showscale": false
        },
        "height": 800,
        "hoverlabel": {
         "bgcolor": "white",
         "font": {
          "family": "Rockwell",
          "size": 16
         }
        },
        "legend": {
         "title": {
          "text": "Trend"
         }
        },
        "margin": {
         "t": 60
        },
        "showlegend": true,
        "template": {
         "data": {
          "bar": [
           {
            "error_x": {
             "color": "#2a3f5f"
            },
            "error_y": {
             "color": "#2a3f5f"
            },
            "marker": {
             "line": {
              "color": "#E5ECF6",
              "width": 0.5
             },
             "pattern": {
              "fillmode": "overlay",
              "size": 10,
              "solidity": 0.2
             }
            },
            "type": "bar"
           }
          ],
          "barpolar": [
           {
            "marker": {
             "line": {
              "color": "#E5ECF6",
              "width": 0.5
             },
             "pattern": {
              "fillmode": "overlay",
              "size": 10,
              "solidity": 0.2
             }
            },
            "type": "barpolar"
           }
          ],
          "carpet": [
           {
            "aaxis": {
             "endlinecolor": "#2a3f5f",
             "gridcolor": "white",
             "linecolor": "white",
             "minorgridcolor": "white",
             "startlinecolor": "#2a3f5f"
            },
            "baxis": {
             "endlinecolor": "#2a3f5f",
             "gridcolor": "white",
             "linecolor": "white",
             "minorgridcolor": "white",
             "startlinecolor": "#2a3f5f"
            },
            "type": "carpet"
           }
          ],
          "choropleth": [
           {
            "colorbar": {
             "outlinewidth": 0,
             "ticks": ""
            },
            "type": "choropleth"
           }
          ],
          "contour": [
           {
            "colorbar": {
             "outlinewidth": 0,
             "ticks": ""
            },
            "colorscale": [
             [
              0,
              "#0d0887"
             ],
             [
              0.1111111111111111,
              "#46039f"
             ],
             [
              0.2222222222222222,
              "#7201a8"
             ],
             [
              0.3333333333333333,
              "#9c179e"
             ],
             [
              0.4444444444444444,
              "#bd3786"
             ],
             [
              0.5555555555555556,
              "#d8576b"
             ],
             [
              0.6666666666666666,
              "#ed7953"
             ],
             [
              0.7777777777777778,
              "#fb9f3a"
             ],
             [
              0.8888888888888888,
              "#fdca26"
             ],
             [
              1,
              "#f0f921"
             ]
            ],
            "type": "contour"
           }
          ],
          "contourcarpet": [
           {
            "colorbar": {
             "outlinewidth": 0,
             "ticks": ""
            },
            "type": "contourcarpet"
           }
          ],
          "heatmap": [
           {
            "colorbar": {
             "outlinewidth": 0,
             "ticks": ""
            },
            "colorscale": [
             [
              0,
              "#0d0887"
             ],
             [
              0.1111111111111111,
              "#46039f"
             ],
             [
              0.2222222222222222,
              "#7201a8"
             ],
             [
              0.3333333333333333,
              "#9c179e"
             ],
             [
              0.4444444444444444,
              "#bd3786"
             ],
             [
              0.5555555555555556,
              "#d8576b"
             ],
             [
              0.6666666666666666,
              "#ed7953"
             ],
             [
              0.7777777777777778,
              "#fb9f3a"
             ],
             [
              0.8888888888888888,
              "#fdca26"
             ],
             [
              1,
              "#f0f921"
             ]
            ],
            "type": "heatmap"
           }
          ],
          "heatmapgl": [
           {
            "colorbar": {
             "outlinewidth": 0,
             "ticks": ""
            },
            "colorscale": [
             [
              0,
              "#0d0887"
             ],
             [
              0.1111111111111111,
              "#46039f"
             ],
             [
              0.2222222222222222,
              "#7201a8"
             ],
             [
              0.3333333333333333,
              "#9c179e"
             ],
             [
              0.4444444444444444,
              "#bd3786"
             ],
             [
              0.5555555555555556,
              "#d8576b"
             ],
             [
              0.6666666666666666,
              "#ed7953"
             ],
             [
              0.7777777777777778,
              "#fb9f3a"
             ],
             [
              0.8888888888888888,
              "#fdca26"
             ],
             [
              1,
              "#f0f921"
             ]
            ],
            "type": "heatmapgl"
           }
          ],
          "histogram": [
           {
            "marker": {
             "pattern": {
              "fillmode": "overlay",
              "size": 10,
              "solidity": 0.2
             }
            },
            "type": "histogram"
           }
          ],
          "histogram2d": [
           {
            "colorbar": {
             "outlinewidth": 0,
             "ticks": ""
            },
            "colorscale": [
             [
              0,
              "#0d0887"
             ],
             [
              0.1111111111111111,
              "#46039f"
             ],
             [
              0.2222222222222222,
              "#7201a8"
             ],
             [
              0.3333333333333333,
              "#9c179e"
             ],
             [
              0.4444444444444444,
              "#bd3786"
             ],
             [
              0.5555555555555556,
              "#d8576b"
             ],
             [
              0.6666666666666666,
              "#ed7953"
             ],
             [
              0.7777777777777778,
              "#fb9f3a"
             ],
             [
              0.8888888888888888,
              "#fdca26"
             ],
             [
              1,
              "#f0f921"
             ]
            ],
            "type": "histogram2d"
           }
          ],
          "histogram2dcontour": [
           {
            "colorbar": {
             "outlinewidth": 0,
             "ticks": ""
            },
            "colorscale": [
             [
              0,
              "#0d0887"
             ],
             [
              0.1111111111111111,
              "#46039f"
             ],
             [
              0.2222222222222222,
              "#7201a8"
             ],
             [
              0.3333333333333333,
              "#9c179e"
             ],
             [
              0.4444444444444444,
              "#bd3786"
             ],
             [
              0.5555555555555556,
              "#d8576b"
             ],
             [
              0.6666666666666666,
              "#ed7953"
             ],
             [
              0.7777777777777778,
              "#fb9f3a"
             ],
             [
              0.8888888888888888,
              "#fdca26"
             ],
             [
              1,
              "#f0f921"
             ]
            ],
            "type": "histogram2dcontour"
           }
          ],
          "mesh3d": [
           {
            "colorbar": {
             "outlinewidth": 0,
             "ticks": ""
            },
            "type": "mesh3d"
           }
          ],
          "parcoords": [
           {
            "line": {
             "colorbar": {
              "outlinewidth": 0,
              "ticks": ""
             }
            },
            "type": "parcoords"
           }
          ],
          "pie": [
           {
            "automargin": true,
            "type": "pie"
           }
          ],
          "scatter": [
           {
            "fillpattern": {
             "fillmode": "overlay",
             "size": 10,
             "solidity": 0.2
            },
            "type": "scatter"
           }
          ],
          "scatter3d": [
           {
            "line": {
             "colorbar": {
              "outlinewidth": 0,
              "ticks": ""
             }
            },
            "marker": {
             "colorbar": {
              "outlinewidth": 0,
              "ticks": ""
             }
            },
            "type": "scatter3d"
           }
          ],
          "scattercarpet": [
           {
            "marker": {
             "colorbar": {
              "outlinewidth": 0,
              "ticks": ""
             }
            },
            "type": "scattercarpet"
           }
          ],
          "scattergeo": [
           {
            "marker": {
             "colorbar": {
              "outlinewidth": 0,
              "ticks": ""
             }
            },
            "type": "scattergeo"
           }
          ],
          "scattergl": [
           {
            "marker": {
             "colorbar": {
              "outlinewidth": 0,
              "ticks": ""
             }
            },
            "type": "scattergl"
           }
          ],
          "scattermapbox": [
           {
            "marker": {
             "colorbar": {
              "outlinewidth": 0,
              "ticks": ""
             }
            },
            "type": "scattermapbox"
           }
          ],
          "scatterpolar": [
           {
            "marker": {
             "colorbar": {
              "outlinewidth": 0,
              "ticks": ""
             }
            },
            "type": "scatterpolar"
           }
          ],
          "scatterpolargl": [
           {
            "marker": {
             "colorbar": {
              "outlinewidth": 0,
              "ticks": ""
             }
            },
            "type": "scatterpolargl"
           }
          ],
          "scatterternary": [
           {
            "marker": {
             "colorbar": {
              "outlinewidth": 0,
              "ticks": ""
             }
            },
            "type": "scatterternary"
           }
          ],
          "surface": [
           {
            "colorbar": {
             "outlinewidth": 0,
             "ticks": ""
            },
            "colorscale": [
             [
              0,
              "#0d0887"
             ],
             [
              0.1111111111111111,
              "#46039f"
             ],
             [
              0.2222222222222222,
              "#7201a8"
             ],
             [
              0.3333333333333333,
              "#9c179e"
             ],
             [
              0.4444444444444444,
              "#bd3786"
             ],
             [
              0.5555555555555556,
              "#d8576b"
             ],
             [
              0.6666666666666666,
              "#ed7953"
             ],
             [
              0.7777777777777778,
              "#fb9f3a"
             ],
             [
              0.8888888888888888,
              "#fdca26"
             ],
             [
              1,
              "#f0f921"
             ]
            ],
            "type": "surface"
           }
          ],
          "table": [
           {
            "cells": {
             "fill": {
              "color": "#EBF0F8"
             },
             "line": {
              "color": "white"
             }
            },
            "header": {
             "fill": {
              "color": "#C8D4E3"
             },
             "line": {
              "color": "white"
             }
            },
            "type": "table"
           }
          ]
         },
         "layout": {
          "annotationdefaults": {
           "arrowcolor": "#2a3f5f",
           "arrowhead": 0,
           "arrowwidth": 1
          },
          "autotypenumbers": "strict",
          "coloraxis": {
           "colorbar": {
            "outlinewidth": 0,
            "ticks": ""
           }
          },
          "colorscale": {
           "diverging": [
            [
             0,
             "#8e0152"
            ],
            [
             0.1,
             "#c51b7d"
            ],
            [
             0.2,
             "#de77ae"
            ],
            [
             0.3,
             "#f1b6da"
            ],
            [
             0.4,
             "#fde0ef"
            ],
            [
             0.5,
             "#f7f7f7"
            ],
            [
             0.6,
             "#e6f5d0"
            ],
            [
             0.7,
             "#b8e186"
            ],
            [
             0.8,
             "#7fbc41"
            ],
            [
             0.9,
             "#4d9221"
            ],
            [
             1,
             "#276419"
            ]
           ],
           "sequential": [
            [
             0,
             "#0d0887"
            ],
            [
             0.1111111111111111,
             "#46039f"
            ],
            [
             0.2222222222222222,
             "#7201a8"
            ],
            [
             0.3333333333333333,
             "#9c179e"
            ],
            [
             0.4444444444444444,
             "#bd3786"
            ],
            [
             0.5555555555555556,
             "#d8576b"
            ],
            [
             0.6666666666666666,
             "#ed7953"
            ],
            [
             0.7777777777777778,
             "#fb9f3a"
            ],
            [
             0.8888888888888888,
             "#fdca26"
            ],
            [
             1,
             "#f0f921"
            ]
           ],
           "sequentialminus": [
            [
             0,
             "#0d0887"
            ],
            [
             0.1111111111111111,
             "#46039f"
            ],
            [
             0.2222222222222222,
             "#7201a8"
            ],
            [
             0.3333333333333333,
             "#9c179e"
            ],
            [
             0.4444444444444444,
             "#bd3786"
            ],
            [
             0.5555555555555556,
             "#d8576b"
            ],
            [
             0.6666666666666666,
             "#ed7953"
            ],
            [
             0.7777777777777778,
             "#fb9f3a"
            ],
            [
             0.8888888888888888,
             "#fdca26"
            ],
            [
             1,
             "#f0f921"
            ]
           ]
          },
          "colorway": [
           "#636efa",
           "#EF553B",
           "#00cc96",
           "#ab63fa",
           "#FFA15A",
           "#19d3f3",
           "#FF6692",
           "#B6E880",
           "#FF97FF",
           "#FECB52"
          ],
          "font": {
           "color": "#2a3f5f"
          },
          "geo": {
           "bgcolor": "white",
           "lakecolor": "white",
           "landcolor": "#E5ECF6",
           "showlakes": true,
           "showland": true,
           "subunitcolor": "white"
          },
          "hoverlabel": {
           "align": "left"
          },
          "hovermode": "closest",
          "mapbox": {
           "style": "light"
          },
          "paper_bgcolor": "white",
          "plot_bgcolor": "#E5ECF6",
          "polar": {
           "angularaxis": {
            "gridcolor": "white",
            "linecolor": "white",
            "ticks": ""
           },
           "bgcolor": "#E5ECF6",
           "radialaxis": {
            "gridcolor": "white",
            "linecolor": "white",
            "ticks": ""
           }
          },
          "scene": {
           "xaxis": {
            "backgroundcolor": "#E5ECF6",
            "gridcolor": "white",
            "gridwidth": 2,
            "linecolor": "white",
            "showbackground": true,
            "ticks": "",
            "zerolinecolor": "white"
           },
           "yaxis": {
            "backgroundcolor": "#E5ECF6",
            "gridcolor": "white",
            "gridwidth": 2,
            "linecolor": "white",
            "showbackground": true,
            "ticks": "",
            "zerolinecolor": "white"
           },
           "zaxis": {
            "backgroundcolor": "#E5ECF6",
            "gridcolor": "white",
            "gridwidth": 2,
            "linecolor": "white",
            "showbackground": true,
            "ticks": "",
            "zerolinecolor": "white"
           }
          },
          "shapedefaults": {
           "line": {
            "color": "#2a3f5f"
           }
          },
          "ternary": {
           "aaxis": {
            "gridcolor": "white",
            "linecolor": "white",
            "ticks": ""
           },
           "baxis": {
            "gridcolor": "white",
            "linecolor": "white",
            "ticks": ""
           },
           "bgcolor": "#E5ECF6",
           "caxis": {
            "gridcolor": "white",
            "linecolor": "white",
            "ticks": ""
           }
          },
          "title": {
           "x": 0.05
          },
          "xaxis": {
           "automargin": true,
           "gridcolor": "white",
           "linecolor": "white",
           "ticks": "",
           "title": {
            "standoff": 15
           },
           "zerolinecolor": "white",
           "zerolinewidth": 2
          },
          "yaxis": {
           "automargin": true,
           "gridcolor": "white",
           "linecolor": "white",
           "ticks": "",
           "title": {
            "standoff": 15
           },
           "zerolinecolor": "white",
           "zerolinewidth": 2
          }
         }
        },
        "title": {
         "font": {
          "color": "Black",
          "size": 22
         },
         "text": "Similarity of News Topics on Migrants",
         "x": 0.55,
         "xanchor": "center",
         "y": 0.95,
         "yanchor": "top"
        },
        "width": 800,
        "xaxis": {
         "anchor": "y",
         "constrain": "domain",
         "domain": [
          0,
          1
         ],
         "scaleanchor": "y"
        },
        "yaxis": {
         "anchor": "x",
         "autorange": "reversed",
         "constrain": "domain",
         "domain": [
          0,
          1
         ]
        }
       }
      }
     },
     "metadata": {},
     "output_type": "display_data"
    }
   ],
   "source": [
    "fig = news_model.visualize_heatmap(n_clusters=6, custom_labels=True)\n",
    "\n",
    "fig.update_layout(\n",
    "    title_text='Similarity of News Topics on Migrants',\n",
    "    coloraxis=dict(colorscale='Darkmint', showscale=False)  \n",
    ")\n",
    "\n",
    "fig.update_traces(\n",
    "    texttemplate='%{z:.2f}',  \n",
    "    textfont=dict(size=10)    \n",
    ")\n",
    "\n",
    "fig.show()"
   ]
  },
  {
   "cell_type": "markdown",
   "metadata": {},
   "source": [
    "A similar cluster exists for topics on UK and EU migration policies"
   ]
  },
  {
   "cell_type": "code",
   "execution_count": 5,
   "metadata": {},
   "outputs": [
    {
     "data": {
      "application/vnd.plotly.v1+json": {
       "config": {
        "plotlyServerURL": "https://plot.ly"
       },
       "data": [
        {
         "coloraxis": "coloraxis",
         "hovertemplate": "x: %{x}<br>y: %{y}<br>Similarity Score: %{z}<extra></extra>",
         "name": "0",
         "textfont": {
          "size": 10
         },
         "texttemplate": "%{z:.2f}",
         "type": "heatmap",
         "x": [
          "1: Rwanda Court Ruling",
          "4: Braverman Immigration Policy",
          "6: Rishi Sunak Politics",
          "7: Illegal Migration Legislation",
          "12: EU Migration Deal",
          "16: Gary Lineker Controversy",
          "22: Stopping Migrant Boats",
          "23: Emmanuel Macron Politics",
          "25: European Human Rights",
          "26: Archbishop on Migration",
          "2: Asylum Seekers Accommodation",
          "9: RAF Scampton Asylum",
          "18: Asylum Claims Backlog",
          "3: Taliban Convictions",
          "13: UK Police Crimes",
          "14: Protests at Hotels",
          "19: Missing Unaccompanied Children",
          "5: Migration Record Figures",
          "17: Foreign Worker Visas",
          "24: Foreign University Students",
          "8: Migrants Crossing",
          "11: Bibby Stockholm Barge",
          "15: Migrant Smuggling Gangs",
          "20: Legionella on Barge",
          "21: Portland Asylum Barge",
          "10: Migrant Boat Tragedies"
         ],
         "xaxis": "x",
         "y": [
          "1: Rwanda Court Ruling",
          "4: Braverman Immigration Policy",
          "6: Rishi Sunak Politics",
          "7: Illegal Migration Legislation",
          "12: EU Migration Deal",
          "16: Gary Lineker Controversy",
          "22: Stopping Migrant Boats",
          "23: Emmanuel Macron Politics",
          "25: European Human Rights",
          "26: Archbishop on Migration",
          "2: Asylum Seekers Accommodation",
          "9: RAF Scampton Asylum",
          "18: Asylum Claims Backlog",
          "3: Taliban Convictions",
          "13: UK Police Crimes",
          "14: Protests at Hotels",
          "19: Missing Unaccompanied Children",
          "5: Migration Record Figures",
          "17: Foreign Worker Visas",
          "24: Foreign University Students",
          "8: Migrants Crossing",
          "11: Bibby Stockholm Barge",
          "15: Migrant Smuggling Gangs",
          "20: Legionella on Barge",
          "21: Portland Asylum Barge",
          "10: Migrant Boat Tragedies"
         ],
         "yaxis": "y",
         "z": [
          [
           1.000000238418579,
           0.6442880630493164,
           0.5715941786766052,
           0.6931968927383423,
           0.6675300598144531,
           0.4437870383262634,
           0.6083564162254333,
           0.46657320857048035,
           0.5946568846702576,
           0.5378581881523132,
           0.5631364583969116,
           0.4651836156845093,
           0.6012481451034546,
           0.5024974346160889,
           0.35475993156433105,
           0.4236050844192505,
           0.44981086254119873,
           0.46911296248435974,
           0.4991764724254608,
           0.44865334033966064,
           0.37998199462890625,
           0.40259894728660583,
           0.4977482557296753,
           0.4540121555328369,
           0.4424915909767151,
           0.34778743982315063
          ],
          [
           0.6442880630493164,
           0.9999997615814209,
           0.6991298198699951,
           0.6114251017570496,
           0.6152058839797974,
           0.6381919384002686,
           0.6252536773681641,
           0.4390641748905182,
           0.640628457069397,
           0.5879181623458862,
           0.5821677446365356,
           0.5181348919868469,
           0.5532112121582031,
           0.508699357509613,
           0.47124433517456055,
           0.44797900319099426,
           0.49508506059646606,
           0.45512476563453674,
           0.6039078235626221,
           0.46569550037384033,
           0.33801472187042236,
           0.4047369956970215,
           0.4838382601737976,
           0.41943979263305664,
           0.46649497747421265,
           0.2667122185230255
          ],
          [
           0.5715941786766052,
           0.6991298198699951,
           1.000000238418579,
           0.6459940671920776,
           0.6576371192932129,
           0.650191068649292,
           0.771983802318573,
           0.5608469247817993,
           0.6385878324508667,
           0.5666214823722839,
           0.4862227439880371,
           0.4497101604938507,
           0.49731189012527466,
           0.4170222282409668,
           0.41366368532180786,
           0.3983801007270813,
           0.3442274332046509,
           0.544965922832489,
           0.558053195476532,
           0.43515199422836304,
           0.38398128747940063,
           0.3967639207839966,
           0.5114507079124451,
           0.34075286984443665,
           0.4617530107498169,
           0.27566206455230713
          ],
          [
           0.6931968927383423,
           0.6114251017570496,
           0.6459940671920776,
           0.9999998211860657,
           0.686262845993042,
           0.47738224267959595,
           0.780433177947998,
           0.5145260691642761,
           0.6231201887130737,
           0.7465945482254028,
           0.6713283658027649,
           0.5460334420204163,
           0.6822092533111572,
           0.45748475193977356,
           0.4685829281806946,
           0.48658686876296997,
           0.516462504863739,
           0.6171451807022095,
           0.6412022113800049,
           0.5559736490249634,
           0.5966290831565857,
           0.5499625205993652,
           0.6709860563278198,
           0.5211927890777588,
           0.6378928422927856,
           0.3804190158843994
          ],
          [
           0.6675300598144531,
           0.6152058839797974,
           0.6576371192932129,
           0.686262845993042,
           0.9999998807907104,
           0.5105990767478943,
           0.696031928062439,
           0.697174072265625,
           0.6478651762008667,
           0.5937776565551758,
           0.6080379486083984,
           0.4857814311981201,
           0.6039283275604248,
           0.4549933075904846,
           0.3374435603618622,
           0.4719359278678894,
           0.42479175329208374,
           0.5990153551101685,
           0.5964818000793457,
           0.5055755376815796,
           0.49493199586868286,
           0.5189589262008667,
           0.6755322217941284,
           0.4450174570083618,
           0.5522657036781311,
           0.39327532052993774
          ],
          [
           0.4437870383262634,
           0.6381919384002686,
           0.650191068649292,
           0.47738224267959595,
           0.5105990767478943,
           0.9999998807907104,
           0.5543493032455444,
           0.42067837715148926,
           0.5427803993225098,
           0.5479545593261719,
           0.42928504943847656,
           0.4304857850074768,
           0.4171373248100281,
           0.44451630115509033,
           0.42069146037101746,
           0.4619995951652527,
           0.3513195216655731,
           0.3552669286727905,
           0.39474940299987793,
           0.3282442092895508,
           0.3320242166519165,
           0.32842642068862915,
           0.46493369340896606,
           0.3058272898197174,
           0.3441094756126404,
           0.24428710341453552
          ],
          [
           0.6083564162254333,
           0.6252536773681641,
           0.771983802318573,
           0.780433177947998,
           0.696031928062439,
           0.5543493032455444,
           1,
           0.5879944562911987,
           0.6033602356910706,
           0.6440398693084717,
           0.510629415512085,
           0.4232358932495117,
           0.5049790143966675,
           0.3962688446044922,
           0.36058714985847473,
           0.39545589685440063,
           0.3357959985733032,
           0.5322952270507812,
           0.5415793657302856,
           0.415391743183136,
           0.5802703499794006,
           0.47797703742980957,
           0.6528199911117554,
           0.4175843596458435,
           0.635684609413147,
           0.41561251878738403
          ],
          [
           0.46657320857048035,
           0.4390641748905182,
           0.5608469247817993,
           0.5145260691642761,
           0.697174072265625,
           0.42067837715148926,
           0.5879944562911987,
           0.9999997615814209,
           0.47978419065475464,
           0.44559040665626526,
           0.41854172945022583,
           0.3093886971473694,
           0.39531445503234863,
           0.23250937461853027,
           0.22192221879959106,
           0.3003498315811157,
           0.25487709045410156,
           0.4295954704284668,
           0.43718308210372925,
           0.3493177890777588,
           0.38087090849876404,
           0.37347203493118286,
           0.561493992805481,
           0.3141881227493286,
           0.4094129204750061,
           0.26846402883529663
          ],
          [
           0.5946568846702576,
           0.640628457069397,
           0.6385878324508667,
           0.6231201887130737,
           0.6478651762008667,
           0.5427803993225098,
           0.6033602356910706,
           0.47978419065475464,
           1,
           0.5860964059829712,
           0.45982635021209717,
           0.4519890546798706,
           0.500418484210968,
           0.39790236949920654,
           0.36151859164237976,
           0.3698749542236328,
           0.36468538641929626,
           0.4373829662799835,
           0.5007544755935669,
           0.44985437393188477,
           0.27509891986846924,
           0.3222922384738922,
           0.4365480840206146,
           0.29131805896759033,
           0.39036720991134644,
           0.16924208402633667
          ],
          [
           0.5378581881523132,
           0.5879181623458862,
           0.5666214823722839,
           0.7465945482254028,
           0.5937776565551758,
           0.5479545593261719,
           0.6440398693084717,
           0.44559040665626526,
           0.5860964059829712,
           0.9999998807907104,
           0.5824702978134155,
           0.4585697650909424,
           0.5476303696632385,
           0.3983052968978882,
           0.3348881006240845,
           0.41399693489074707,
           0.40866464376449585,
           0.4714978039264679,
           0.4912734031677246,
           0.4361553192138672,
           0.4094882309436798,
           0.4226060211658478,
           0.4727293848991394,
           0.4334768056869507,
           0.5066907405853271,
           0.2447648048400879
          ],
          [
           0.5631364583969116,
           0.5821677446365356,
           0.4862227439880371,
           0.6713283658027649,
           0.6080379486083984,
           0.42928504943847656,
           0.510629415512085,
           0.41854172945022583,
           0.45982635021209717,
           0.5824702978134155,
           1,
           0.7564111948013306,
           0.7805377244949341,
           0.4643014073371887,
           0.4333406686782837,
           0.6461532115936279,
           0.6636427044868469,
           0.582213819026947,
           0.5964301824569702,
           0.5089958906173706,
           0.5501766204833984,
           0.6777382493019104,
           0.5685639977455139,
           0.5859630107879639,
           0.7137078046798706,
           0.37222909927368164
          ],
          [
           0.4651836156845093,
           0.5181348919868469,
           0.4497101604938507,
           0.5460334420204163,
           0.4857814311981201,
           0.4304857850074768,
           0.4232358932495117,
           0.3093886971473694,
           0.4519890546798706,
           0.4585697650909424,
           0.7564111948013306,
           1,
           0.6290007829666138,
           0.4767587184906006,
           0.44289982318878174,
           0.6172136068344116,
           0.5814843773841858,
           0.4456295967102051,
           0.4735584259033203,
           0.43736761808395386,
           0.44349735975265503,
           0.5751730799674988,
           0.47303295135498047,
           0.5627163052558899,
           0.6455289125442505,
           0.3362041711807251
          ],
          [
           0.6012481451034546,
           0.5532112121582031,
           0.49731189012527466,
           0.6822092533111572,
           0.6039283275604248,
           0.4171373248100281,
           0.5049790143966675,
           0.39531445503234863,
           0.500418484210968,
           0.5476303696632385,
           0.7805377244949341,
           0.6290007829666138,
           0.9999998807907104,
           0.5395041704177856,
           0.5057162642478943,
           0.5351212024688721,
           0.5871831178665161,
           0.6227163076400757,
           0.6006220579147339,
           0.525467038154602,
           0.5802284479141235,
           0.5695801973342896,
           0.5555280447006226,
           0.5374177694320679,
           0.605279803276062,
           0.3732832372188568
          ],
          [
           0.5024974346160889,
           0.508699357509613,
           0.4170222282409668,
           0.45748475193977356,
           0.4549933075904846,
           0.44451630115509033,
           0.3962688446044922,
           0.23250937461853027,
           0.39790236949920654,
           0.3983052968978882,
           0.4643014073371887,
           0.4767587184906006,
           0.5395041704177856,
           0.9999997019767761,
           0.5594378709793091,
           0.5522028207778931,
           0.6090981960296631,
           0.35243910551071167,
           0.3658818006515503,
           0.4230860471725464,
           0.35736194252967834,
           0.40575897693634033,
           0.4825115203857422,
           0.4140383005142212,
           0.37749573588371277,
           0.5000770092010498
          ],
          [
           0.35475993156433105,
           0.47124433517456055,
           0.41366368532180786,
           0.4685829281806946,
           0.3374435603618622,
           0.42069146037101746,
           0.36058714985847473,
           0.22192221879959106,
           0.36151859164237976,
           0.3348881006240845,
           0.4333406686782837,
           0.44289982318878174,
           0.5057162642478943,
           0.5594378709793091,
           0.9999998807907104,
           0.5986950993537903,
           0.5291504859924316,
           0.37281689047813416,
           0.3852474093437195,
           0.3428966701030731,
           0.35691332817077637,
           0.2970280647277832,
           0.5653347969055176,
           0.3275088369846344,
           0.32447385787963867,
           0.2662483751773834
          ],
          [
           0.4236050844192505,
           0.44797900319099426,
           0.3983801007270813,
           0.48658686876296997,
           0.4719359278678894,
           0.4619995951652527,
           0.39545589685440063,
           0.3003498315811157,
           0.3698749542236328,
           0.41399693489074707,
           0.6461532115936279,
           0.6172136068344116,
           0.5351212024688721,
           0.5522028207778931,
           0.5986950993537903,
           0.9999997615814209,
           0.5155583620071411,
           0.3138464689254761,
           0.2627010643482208,
           0.28082001209259033,
           0.4495698809623718,
           0.5127537250518799,
           0.5517317056655884,
           0.5182416439056396,
           0.48629647493362427,
           0.4096411466598511
          ],
          [
           0.44981086254119873,
           0.49508506059646606,
           0.3442274332046509,
           0.516462504863739,
           0.42479175329208374,
           0.3513195216655731,
           0.3357959985733032,
           0.25487709045410156,
           0.36468538641929626,
           0.40866464376449585,
           0.6636427044868469,
           0.5814843773841858,
           0.5871831178665161,
           0.6090981960296631,
           0.5291504859924316,
           0.5155583620071411,
           0.9999997615814209,
           0.41240423917770386,
           0.43530917167663574,
           0.4426461458206177,
           0.3966211676597595,
           0.46769076585769653,
           0.431454598903656,
           0.47682374715805054,
           0.46594351530075073,
           0.4147188663482666
          ],
          [
           0.46911296248435974,
           0.45512476563453674,
           0.544965922832489,
           0.6171451807022095,
           0.5990153551101685,
           0.3552669286727905,
           0.5322952270507812,
           0.4295954704284668,
           0.4373829662799835,
           0.4714978039264679,
           0.582213819026947,
           0.4456295967102051,
           0.6227163076400757,
           0.35243910551071167,
           0.37281689047813416,
           0.3138464689254761,
           0.41240423917770386,
           0.9999998807907104,
           0.7250499129295349,
           0.6173340082168579,
           0.6300283074378967,
           0.423257052898407,
           0.6140676140785217,
           0.38301384449005127,
           0.4322691261768341,
           0.3249317407608032
          ],
          [
           0.4991764724254608,
           0.6039078235626221,
           0.558053195476532,
           0.6412022113800049,
           0.5964818000793457,
           0.39474940299987793,
           0.5415793657302856,
           0.43718308210372925,
           0.5007544755935669,
           0.4912734031677246,
           0.5964301824569702,
           0.4735584259033203,
           0.6006220579147339,
           0.3658818006515503,
           0.3852474093437195,
           0.2627010643482208,
           0.43530917167663574,
           0.7250499129295349,
           1.0000001192092896,
           0.6786977052688599,
           0.41553810238838196,
           0.39634090662002563,
           0.514663815498352,
           0.31693583726882935,
           0.42439767718315125,
           0.19779932498931885
          ],
          [
           0.44865334033966064,
           0.46569550037384033,
           0.43515199422836304,
           0.5559736490249634,
           0.5055755376815796,
           0.3282442092895508,
           0.415391743183136,
           0.3493177890777588,
           0.44985437393188477,
           0.4361553192138672,
           0.5089958906173706,
           0.43736761808395386,
           0.525467038154602,
           0.4230860471725464,
           0.3428966701030731,
           0.28082001209259033,
           0.4426461458206177,
           0.6173340082168579,
           0.6786977052688599,
           1,
           0.3457740545272827,
           0.3240891993045807,
           0.48133623600006104,
           0.2812119424343109,
           0.33955416083335876,
           0.17884522676467896
          ],
          [
           0.37998199462890625,
           0.33801472187042236,
           0.38398128747940063,
           0.5966290831565857,
           0.49493199586868286,
           0.3320242166519165,
           0.5802703499794006,
           0.38087090849876404,
           0.27509891986846924,
           0.4094882309436798,
           0.5501766204833984,
           0.44349735975265503,
           0.5802284479141235,
           0.35736194252967834,
           0.35691332817077637,
           0.4495698809623718,
           0.3966211676597595,
           0.6300283074378967,
           0.41553810238838196,
           0.3457740545272827,
           0.9999998807907104,
           0.6107085943222046,
           0.7743608355522156,
           0.6088663339614868,
           0.6810289025306702,
           0.7016186714172363
          ],
          [
           0.40259894728660583,
           0.4047369956970215,
           0.3967639207839966,
           0.5499625205993652,
           0.5189589262008667,
           0.32842642068862915,
           0.47797703742980957,
           0.37347203493118286,
           0.3222922384738922,
           0.4226060211658478,
           0.6777382493019104,
           0.5751730799674988,
           0.5695801973342896,
           0.40575897693634033,
           0.2970280647277832,
           0.5127537250518799,
           0.46769076585769653,
           0.423257052898407,
           0.39634090662002563,
           0.3240891993045807,
           0.6107085943222046,
           1,
           0.5706641674041748,
           0.7420110702514648,
           0.8274002075195312,
           0.5643342733383179
          ],
          [
           0.4977482557296753,
           0.4838382601737976,
           0.5114507079124451,
           0.6709860563278198,
           0.6755322217941284,
           0.46493369340896606,
           0.6528199911117554,
           0.561493992805481,
           0.4365480840206146,
           0.4727293848991394,
           0.5685639977455139,
           0.47303295135498047,
           0.5555280447006226,
           0.4825115203857422,
           0.5653347969055176,
           0.5517317056655884,
           0.431454598903656,
           0.6140676140785217,
           0.514663815498352,
           0.48133623600006104,
           0.7743608355522156,
           0.5706641674041748,
           1.0000001192092896,
           0.4888508915901184,
           0.6292330026626587,
           0.5672963857650757
          ],
          [
           0.4540121555328369,
           0.41943979263305664,
           0.34075286984443665,
           0.5211927890777588,
           0.4450174570083618,
           0.3058272898197174,
           0.4175843596458435,
           0.3141881227493286,
           0.29131805896759033,
           0.4334768056869507,
           0.5859630107879639,
           0.5627163052558899,
           0.5374177694320679,
           0.4140383005142212,
           0.3275088369846344,
           0.5182416439056396,
           0.47682374715805054,
           0.38301384449005127,
           0.31693583726882935,
           0.2812119424343109,
           0.6088663339614868,
           0.7420110702514648,
           0.4888508915901184,
           0.9999999403953552,
           0.6627197265625,
           0.6077624559402466
          ],
          [
           0.4424915909767151,
           0.46649497747421265,
           0.4617530107498169,
           0.6378928422927856,
           0.5522657036781311,
           0.3441094756126404,
           0.635684609413147,
           0.4094129204750061,
           0.39036720991134644,
           0.5066907405853271,
           0.7137078046798706,
           0.6455289125442505,
           0.605279803276062,
           0.37749573588371277,
           0.32447385787963867,
           0.48629647493362427,
           0.46594351530075073,
           0.4322691261768341,
           0.42439767718315125,
           0.33955416083335876,
           0.6810289025306702,
           0.8274002075195312,
           0.6292330026626587,
           0.6627197265625,
           1,
           0.5776967406272888
          ],
          [
           0.34778743982315063,
           0.2667122185230255,
           0.27566206455230713,
           0.3804190158843994,
           0.39327532052993774,
           0.24428710341453552,
           0.41561251878738403,
           0.26846402883529663,
           0.16924208402633667,
           0.2447648048400879,
           0.37222909927368164,
           0.3362041711807251,
           0.3732832372188568,
           0.5000770092010498,
           0.2662483751773834,
           0.4096411466598511,
           0.4147188663482666,
           0.3249317407608032,
           0.19779932498931885,
           0.17884522676467896,
           0.7016186714172363,
           0.5643342733383179,
           0.5672963857650757,
           0.6077624559402466,
           0.5776967406272888,
           0.9999999403953552
          ]
         ]
        }
       ],
       "layout": {
        "coloraxis": {
         "colorbar": {
          "title": {
           "text": "Similarity Score"
          }
         },
         "colorscale": [
          [
           0,
           "rgb(210, 251, 212)"
          ],
          [
           0.16666666666666666,
           "rgb(165, 219, 194)"
          ],
          [
           0.3333333333333333,
           "rgb(123, 188, 176)"
          ],
          [
           0.5,
           "rgb(85, 156, 158)"
          ],
          [
           0.6666666666666666,
           "rgb(58, 124, 137)"
          ],
          [
           0.8333333333333334,
           "rgb(35, 93, 114)"
          ],
          [
           1,
           "rgb(18, 63, 90)"
          ]
         ],
         "showscale": false
        },
        "height": 800,
        "hoverlabel": {
         "bgcolor": "white",
         "font": {
          "family": "Rockwell",
          "size": 16
         }
        },
        "legend": {
         "title": {
          "text": "Trend"
         }
        },
        "margin": {
         "t": 60
        },
        "showlegend": true,
        "template": {
         "data": {
          "bar": [
           {
            "error_x": {
             "color": "#2a3f5f"
            },
            "error_y": {
             "color": "#2a3f5f"
            },
            "marker": {
             "line": {
              "color": "#E5ECF6",
              "width": 0.5
             },
             "pattern": {
              "fillmode": "overlay",
              "size": 10,
              "solidity": 0.2
             }
            },
            "type": "bar"
           }
          ],
          "barpolar": [
           {
            "marker": {
             "line": {
              "color": "#E5ECF6",
              "width": 0.5
             },
             "pattern": {
              "fillmode": "overlay",
              "size": 10,
              "solidity": 0.2
             }
            },
            "type": "barpolar"
           }
          ],
          "carpet": [
           {
            "aaxis": {
             "endlinecolor": "#2a3f5f",
             "gridcolor": "white",
             "linecolor": "white",
             "minorgridcolor": "white",
             "startlinecolor": "#2a3f5f"
            },
            "baxis": {
             "endlinecolor": "#2a3f5f",
             "gridcolor": "white",
             "linecolor": "white",
             "minorgridcolor": "white",
             "startlinecolor": "#2a3f5f"
            },
            "type": "carpet"
           }
          ],
          "choropleth": [
           {
            "colorbar": {
             "outlinewidth": 0,
             "ticks": ""
            },
            "type": "choropleth"
           }
          ],
          "contour": [
           {
            "colorbar": {
             "outlinewidth": 0,
             "ticks": ""
            },
            "colorscale": [
             [
              0,
              "#0d0887"
             ],
             [
              0.1111111111111111,
              "#46039f"
             ],
             [
              0.2222222222222222,
              "#7201a8"
             ],
             [
              0.3333333333333333,
              "#9c179e"
             ],
             [
              0.4444444444444444,
              "#bd3786"
             ],
             [
              0.5555555555555556,
              "#d8576b"
             ],
             [
              0.6666666666666666,
              "#ed7953"
             ],
             [
              0.7777777777777778,
              "#fb9f3a"
             ],
             [
              0.8888888888888888,
              "#fdca26"
             ],
             [
              1,
              "#f0f921"
             ]
            ],
            "type": "contour"
           }
          ],
          "contourcarpet": [
           {
            "colorbar": {
             "outlinewidth": 0,
             "ticks": ""
            },
            "type": "contourcarpet"
           }
          ],
          "heatmap": [
           {
            "colorbar": {
             "outlinewidth": 0,
             "ticks": ""
            },
            "colorscale": [
             [
              0,
              "#0d0887"
             ],
             [
              0.1111111111111111,
              "#46039f"
             ],
             [
              0.2222222222222222,
              "#7201a8"
             ],
             [
              0.3333333333333333,
              "#9c179e"
             ],
             [
              0.4444444444444444,
              "#bd3786"
             ],
             [
              0.5555555555555556,
              "#d8576b"
             ],
             [
              0.6666666666666666,
              "#ed7953"
             ],
             [
              0.7777777777777778,
              "#fb9f3a"
             ],
             [
              0.8888888888888888,
              "#fdca26"
             ],
             [
              1,
              "#f0f921"
             ]
            ],
            "type": "heatmap"
           }
          ],
          "heatmapgl": [
           {
            "colorbar": {
             "outlinewidth": 0,
             "ticks": ""
            },
            "colorscale": [
             [
              0,
              "#0d0887"
             ],
             [
              0.1111111111111111,
              "#46039f"
             ],
             [
              0.2222222222222222,
              "#7201a8"
             ],
             [
              0.3333333333333333,
              "#9c179e"
             ],
             [
              0.4444444444444444,
              "#bd3786"
             ],
             [
              0.5555555555555556,
              "#d8576b"
             ],
             [
              0.6666666666666666,
              "#ed7953"
             ],
             [
              0.7777777777777778,
              "#fb9f3a"
             ],
             [
              0.8888888888888888,
              "#fdca26"
             ],
             [
              1,
              "#f0f921"
             ]
            ],
            "type": "heatmapgl"
           }
          ],
          "histogram": [
           {
            "marker": {
             "pattern": {
              "fillmode": "overlay",
              "size": 10,
              "solidity": 0.2
             }
            },
            "type": "histogram"
           }
          ],
          "histogram2d": [
           {
            "colorbar": {
             "outlinewidth": 0,
             "ticks": ""
            },
            "colorscale": [
             [
              0,
              "#0d0887"
             ],
             [
              0.1111111111111111,
              "#46039f"
             ],
             [
              0.2222222222222222,
              "#7201a8"
             ],
             [
              0.3333333333333333,
              "#9c179e"
             ],
             [
              0.4444444444444444,
              "#bd3786"
             ],
             [
              0.5555555555555556,
              "#d8576b"
             ],
             [
              0.6666666666666666,
              "#ed7953"
             ],
             [
              0.7777777777777778,
              "#fb9f3a"
             ],
             [
              0.8888888888888888,
              "#fdca26"
             ],
             [
              1,
              "#f0f921"
             ]
            ],
            "type": "histogram2d"
           }
          ],
          "histogram2dcontour": [
           {
            "colorbar": {
             "outlinewidth": 0,
             "ticks": ""
            },
            "colorscale": [
             [
              0,
              "#0d0887"
             ],
             [
              0.1111111111111111,
              "#46039f"
             ],
             [
              0.2222222222222222,
              "#7201a8"
             ],
             [
              0.3333333333333333,
              "#9c179e"
             ],
             [
              0.4444444444444444,
              "#bd3786"
             ],
             [
              0.5555555555555556,
              "#d8576b"
             ],
             [
              0.6666666666666666,
              "#ed7953"
             ],
             [
              0.7777777777777778,
              "#fb9f3a"
             ],
             [
              0.8888888888888888,
              "#fdca26"
             ],
             [
              1,
              "#f0f921"
             ]
            ],
            "type": "histogram2dcontour"
           }
          ],
          "mesh3d": [
           {
            "colorbar": {
             "outlinewidth": 0,
             "ticks": ""
            },
            "type": "mesh3d"
           }
          ],
          "parcoords": [
           {
            "line": {
             "colorbar": {
              "outlinewidth": 0,
              "ticks": ""
             }
            },
            "type": "parcoords"
           }
          ],
          "pie": [
           {
            "automargin": true,
            "type": "pie"
           }
          ],
          "scatter": [
           {
            "fillpattern": {
             "fillmode": "overlay",
             "size": 10,
             "solidity": 0.2
            },
            "type": "scatter"
           }
          ],
          "scatter3d": [
           {
            "line": {
             "colorbar": {
              "outlinewidth": 0,
              "ticks": ""
             }
            },
            "marker": {
             "colorbar": {
              "outlinewidth": 0,
              "ticks": ""
             }
            },
            "type": "scatter3d"
           }
          ],
          "scattercarpet": [
           {
            "marker": {
             "colorbar": {
              "outlinewidth": 0,
              "ticks": ""
             }
            },
            "type": "scattercarpet"
           }
          ],
          "scattergeo": [
           {
            "marker": {
             "colorbar": {
              "outlinewidth": 0,
              "ticks": ""
             }
            },
            "type": "scattergeo"
           }
          ],
          "scattergl": [
           {
            "marker": {
             "colorbar": {
              "outlinewidth": 0,
              "ticks": ""
             }
            },
            "type": "scattergl"
           }
          ],
          "scattermapbox": [
           {
            "marker": {
             "colorbar": {
              "outlinewidth": 0,
              "ticks": ""
             }
            },
            "type": "scattermapbox"
           }
          ],
          "scatterpolar": [
           {
            "marker": {
             "colorbar": {
              "outlinewidth": 0,
              "ticks": ""
             }
            },
            "type": "scatterpolar"
           }
          ],
          "scatterpolargl": [
           {
            "marker": {
             "colorbar": {
              "outlinewidth": 0,
              "ticks": ""
             }
            },
            "type": "scatterpolargl"
           }
          ],
          "scatterternary": [
           {
            "marker": {
             "colorbar": {
              "outlinewidth": 0,
              "ticks": ""
             }
            },
            "type": "scatterternary"
           }
          ],
          "surface": [
           {
            "colorbar": {
             "outlinewidth": 0,
             "ticks": ""
            },
            "colorscale": [
             [
              0,
              "#0d0887"
             ],
             [
              0.1111111111111111,
              "#46039f"
             ],
             [
              0.2222222222222222,
              "#7201a8"
             ],
             [
              0.3333333333333333,
              "#9c179e"
             ],
             [
              0.4444444444444444,
              "#bd3786"
             ],
             [
              0.5555555555555556,
              "#d8576b"
             ],
             [
              0.6666666666666666,
              "#ed7953"
             ],
             [
              0.7777777777777778,
              "#fb9f3a"
             ],
             [
              0.8888888888888888,
              "#fdca26"
             ],
             [
              1,
              "#f0f921"
             ]
            ],
            "type": "surface"
           }
          ],
          "table": [
           {
            "cells": {
             "fill": {
              "color": "#EBF0F8"
             },
             "line": {
              "color": "white"
             }
            },
            "header": {
             "fill": {
              "color": "#C8D4E3"
             },
             "line": {
              "color": "white"
             }
            },
            "type": "table"
           }
          ]
         },
         "layout": {
          "annotationdefaults": {
           "arrowcolor": "#2a3f5f",
           "arrowhead": 0,
           "arrowwidth": 1
          },
          "autotypenumbers": "strict",
          "coloraxis": {
           "colorbar": {
            "outlinewidth": 0,
            "ticks": ""
           }
          },
          "colorscale": {
           "diverging": [
            [
             0,
             "#8e0152"
            ],
            [
             0.1,
             "#c51b7d"
            ],
            [
             0.2,
             "#de77ae"
            ],
            [
             0.3,
             "#f1b6da"
            ],
            [
             0.4,
             "#fde0ef"
            ],
            [
             0.5,
             "#f7f7f7"
            ],
            [
             0.6,
             "#e6f5d0"
            ],
            [
             0.7,
             "#b8e186"
            ],
            [
             0.8,
             "#7fbc41"
            ],
            [
             0.9,
             "#4d9221"
            ],
            [
             1,
             "#276419"
            ]
           ],
           "sequential": [
            [
             0,
             "#0d0887"
            ],
            [
             0.1111111111111111,
             "#46039f"
            ],
            [
             0.2222222222222222,
             "#7201a8"
            ],
            [
             0.3333333333333333,
             "#9c179e"
            ],
            [
             0.4444444444444444,
             "#bd3786"
            ],
            [
             0.5555555555555556,
             "#d8576b"
            ],
            [
             0.6666666666666666,
             "#ed7953"
            ],
            [
             0.7777777777777778,
             "#fb9f3a"
            ],
            [
             0.8888888888888888,
             "#fdca26"
            ],
            [
             1,
             "#f0f921"
            ]
           ],
           "sequentialminus": [
            [
             0,
             "#0d0887"
            ],
            [
             0.1111111111111111,
             "#46039f"
            ],
            [
             0.2222222222222222,
             "#7201a8"
            ],
            [
             0.3333333333333333,
             "#9c179e"
            ],
            [
             0.4444444444444444,
             "#bd3786"
            ],
            [
             0.5555555555555556,
             "#d8576b"
            ],
            [
             0.6666666666666666,
             "#ed7953"
            ],
            [
             0.7777777777777778,
             "#fb9f3a"
            ],
            [
             0.8888888888888888,
             "#fdca26"
            ],
            [
             1,
             "#f0f921"
            ]
           ]
          },
          "colorway": [
           "#636efa",
           "#EF553B",
           "#00cc96",
           "#ab63fa",
           "#FFA15A",
           "#19d3f3",
           "#FF6692",
           "#B6E880",
           "#FF97FF",
           "#FECB52"
          ],
          "font": {
           "color": "#2a3f5f"
          },
          "geo": {
           "bgcolor": "white",
           "lakecolor": "white",
           "landcolor": "#E5ECF6",
           "showlakes": true,
           "showland": true,
           "subunitcolor": "white"
          },
          "hoverlabel": {
           "align": "left"
          },
          "hovermode": "closest",
          "mapbox": {
           "style": "light"
          },
          "paper_bgcolor": "white",
          "plot_bgcolor": "#E5ECF6",
          "polar": {
           "angularaxis": {
            "gridcolor": "white",
            "linecolor": "white",
            "ticks": ""
           },
           "bgcolor": "#E5ECF6",
           "radialaxis": {
            "gridcolor": "white",
            "linecolor": "white",
            "ticks": ""
           }
          },
          "scene": {
           "xaxis": {
            "backgroundcolor": "#E5ECF6",
            "gridcolor": "white",
            "gridwidth": 2,
            "linecolor": "white",
            "showbackground": true,
            "ticks": "",
            "zerolinecolor": "white"
           },
           "yaxis": {
            "backgroundcolor": "#E5ECF6",
            "gridcolor": "white",
            "gridwidth": 2,
            "linecolor": "white",
            "showbackground": true,
            "ticks": "",
            "zerolinecolor": "white"
           },
           "zaxis": {
            "backgroundcolor": "#E5ECF6",
            "gridcolor": "white",
            "gridwidth": 2,
            "linecolor": "white",
            "showbackground": true,
            "ticks": "",
            "zerolinecolor": "white"
           }
          },
          "shapedefaults": {
           "line": {
            "color": "#2a3f5f"
           }
          },
          "ternary": {
           "aaxis": {
            "gridcolor": "white",
            "linecolor": "white",
            "ticks": ""
           },
           "baxis": {
            "gridcolor": "white",
            "linecolor": "white",
            "ticks": ""
           },
           "bgcolor": "#E5ECF6",
           "caxis": {
            "gridcolor": "white",
            "linecolor": "white",
            "ticks": ""
           }
          },
          "title": {
           "x": 0.05
          },
          "xaxis": {
           "automargin": true,
           "gridcolor": "white",
           "linecolor": "white",
           "ticks": "",
           "title": {
            "standoff": 15
           },
           "zerolinecolor": "white",
           "zerolinewidth": 2
          },
          "yaxis": {
           "automargin": true,
           "gridcolor": "white",
           "linecolor": "white",
           "ticks": "",
           "title": {
            "standoff": 15
           },
           "zerolinecolor": "white",
           "zerolinewidth": 2
          }
         }
        },
        "title": {
         "font": {
          "color": "Black",
          "size": 22
         },
         "text": "Similarity of News Topics on UK and EU Migration Policies",
         "x": 0.55,
         "xanchor": "center",
         "y": 0.95,
         "yanchor": "top"
        },
        "width": 800,
        "xaxis": {
         "anchor": "y",
         "constrain": "domain",
         "domain": [
          0,
          1
         ],
         "scaleanchor": "y"
        },
        "yaxis": {
         "anchor": "x",
         "autorange": "reversed",
         "constrain": "domain",
         "domain": [
          0,
          1
         ]
        }
       }
      }
     },
     "metadata": {},
     "output_type": "display_data"
    }
   ],
   "source": [
    "fig = news_model.visualize_heatmap(n_clusters=6, custom_labels=True)\n",
    "\n",
    "fig.update_layout(\n",
    "    title_text='Similarity of News Topics on UK and EU Migration Policies',\n",
    "    coloraxis=dict(colorscale='Darkmint', showscale=False)  \n",
    ")\n",
    "\n",
    "fig.update_traces(\n",
    "    texttemplate='%{z:.2f}',  \n",
    "    textfont=dict(size=10)    \n",
    ")\n",
    "\n",
    "fig.show()"
   ]
  }
 ],
 "metadata": {
  "kernelspec": {
   "display_name": "Python 3",
   "language": "python",
   "name": "python3"
  },
  "language_info": {
   "codemirror_mode": {
    "name": "ipython",
    "version": 3
   },
   "file_extension": ".py",
   "mimetype": "text/x-python",
   "name": "python",
   "nbconvert_exporter": "python",
   "pygments_lexer": "ipython3",
   "version": "3.11.6"
  }
 },
 "nbformat": 4,
 "nbformat_minor": 2
}
